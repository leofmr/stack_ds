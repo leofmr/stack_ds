{
 "cells": [
  {
   "cell_type": "markdown",
   "id": "47db90e8",
   "metadata": {},
   "source": [
    "# 1.0 Introduction\n",
    "\n",
    "In this notebook we will complement our previous analysis of the evolution in the percentage of data scientists with the evolution of unemployment. Since data science is being regarded as a promising profession, it was expected to see a rise in number of data scientists. With the tests and plots done in the last notebook we verified that wasn't the case. The opposite happended. We will continue to investigate our initial hypothesis by comparing the unemployment rate between data scientists and other developers. Might be the case that even though we have a decrease in the percentage of data scientists, we still have a high interest of employers in contracting data scientists, if that is the case it is expected for the data scientists to have a smaller unemployement rate compared to other developers.\n",
    "\n",
    "For this notebook we will adopt a simpler approach and won't make any statistical test. Only graphical analysis will be enough.\n",
    "\n",
    "## 1.1 Imports"
   ]
  },
  {
   "cell_type": "code",
   "execution_count": 1,
   "id": "cda035a2",
   "metadata": {},
   "outputs": [],
   "source": [
    "import pandas as pd\n",
    "import numpy as np\n",
    "import matplotlib.pyplot as plt\n",
    "import seaborn as sns\n",
    "import os\n",
    "    \n",
    "sns.set(context='notebook', style='whitegrid')"
   ]
  },
  {
   "cell_type": "markdown",
   "id": "2e24bd4f",
   "metadata": {},
   "source": [
    "## 1.2 Loading data\n",
    "\n",
    "Looking at the schema of each year we identified that the variable regarding the employment status is **EmploymentStatus** for 2017 survey and **Employment** for all the other surveys. Combined with the already identified variable regarding the developer type, we will load the data from all the years (2017-2020) into a datatframe."
   ]
  },
  {
   "cell_type": "code",
   "execution_count": 2,
   "id": "676e9f43",
   "metadata": {},
   "outputs": [],
   "source": [
    "def load_data(year):\n",
    "    # setting up column names according to the survey year\n",
    "    employment = \"EmploymentStatus\" if year == 2017 else \"Employment\"\n",
    "    devtype = \"DeveloperType\" if year == 2017 else \"DevType\"\n",
    "    \n",
    "    # setting the file path of the dataset\n",
    "    file = str(year) + \"_data.zip\"\n",
    "    file_path = os.path.join(\"data\", file)\n",
    "    \n",
    "    # loading the data and adding the year as a column\n",
    "    cols = [employment, devtype]\n",
    "    df = pd.read_csv(file_path, usecols=cols)[cols]\n",
    "    df.columns = ['employment', 'devtype']\n",
    "    df['year'] = year\n",
    "    df.dropna(inplace=True)\n",
    "    \n",
    "    return df"
   ]
  },
  {
   "cell_type": "code",
   "execution_count": 3,
   "id": "2cc914b5",
   "metadata": {},
   "outputs": [
    {
     "data": {
      "text/html": [
       "<div>\n",
       "<style scoped>\n",
       "    .dataframe tbody tr th:only-of-type {\n",
       "        vertical-align: middle;\n",
       "    }\n",
       "\n",
       "    .dataframe tbody tr th {\n",
       "        vertical-align: top;\n",
       "    }\n",
       "\n",
       "    .dataframe thead th {\n",
       "        text-align: right;\n",
       "    }\n",
       "</style>\n",
       "<table border=\"1\" class=\"dataframe\">\n",
       "  <thead>\n",
       "    <tr style=\"text-align: right;\">\n",
       "      <th></th>\n",
       "      <th>employment</th>\n",
       "      <th>devtype</th>\n",
       "      <th>year</th>\n",
       "    </tr>\n",
       "  </thead>\n",
       "  <tbody>\n",
       "    <tr>\n",
       "      <th>0</th>\n",
       "      <td>Employed full-time</td>\n",
       "      <td>Other</td>\n",
       "      <td>2017</td>\n",
       "    </tr>\n",
       "    <tr>\n",
       "      <th>1</th>\n",
       "      <td>Employed full-time</td>\n",
       "      <td>Mobile developer; Graphics programming; Deskto...</td>\n",
       "      <td>2017</td>\n",
       "    </tr>\n",
       "    <tr>\n",
       "      <th>2</th>\n",
       "      <td>Employed full-time</td>\n",
       "      <td>Web developer</td>\n",
       "      <td>2017</td>\n",
       "    </tr>\n",
       "    <tr>\n",
       "      <th>3</th>\n",
       "      <td>Employed full-time</td>\n",
       "      <td>Web developer; Mobile developer</td>\n",
       "      <td>2017</td>\n",
       "    </tr>\n",
       "    <tr>\n",
       "      <th>4</th>\n",
       "      <td>Independent contractor, freelancer, or self-em...</td>\n",
       "      <td>Mobile developer; Desktop applications developer</td>\n",
       "      <td>2017</td>\n",
       "    </tr>\n",
       "  </tbody>\n",
       "</table>\n",
       "</div>"
      ],
      "text/plain": [
       "                                          employment  \\\n",
       "0                                 Employed full-time   \n",
       "1                                 Employed full-time   \n",
       "2                                 Employed full-time   \n",
       "3                                 Employed full-time   \n",
       "4  Independent contractor, freelancer, or self-em...   \n",
       "\n",
       "                                             devtype  year  \n",
       "0                                              Other  2017  \n",
       "1  Mobile developer; Graphics programming; Deskto...  2017  \n",
       "2                                      Web developer  2017  \n",
       "3                    Web developer; Mobile developer  2017  \n",
       "4   Mobile developer; Desktop applications developer  2017  "
      ]
     },
     "execution_count": 3,
     "metadata": {},
     "output_type": "execute_result"
    }
   ],
   "source": [
    "# loading and concatenating the data for all the selected years\n",
    "data = [load_data(year) for year in range(2017, 2021)]\n",
    "df = pd.concat(data, ignore_index=True)\n",
    "df.head()"
   ]
  },
  {
   "cell_type": "markdown",
   "id": "acbf878f",
   "metadata": {},
   "source": [
    "# 2.0 Differences between Data Scientists and Other Developers\n",
    "\n",
    "## 2.1 Identifying Data Scientists\n",
    "\n",
    "Here we are replicating the figure generated in another notebook. This is just a process to validate our data wrangling in this notebok that is a little bit different from the other one. From the figure bellow we can see that with different steps we achieved the same result."
   ]
  },
  {
   "cell_type": "code",
   "execution_count": 4,
   "id": "50321c79",
   "metadata": {},
   "outputs": [
    {
     "data": {
      "image/png": "[encoded data removed]",
      "text/plain": [
       "<Figure size 864x432 with 1 Axes>"
      ]
     },
     "metadata": {},
     "output_type": "display_data"
    }
   ],
   "source": [
    "# identifying data scientists\n",
    "df['data_science'] = df['devtype'].str.contains('Data scientist|Machine learning')\n",
    "\n",
    "# ploting the evol of the share of data scientists\n",
    "ax = df.groupby('year')['data_science'].mean().plot(figsize=(12, 6), marker='.', markersize=12)\n",
    "plt.ylim(0, 0.2)\n",
    "plt.xticks([2017, 2018, 2019, 2020])\n",
    "ax.yaxis.set_major_formatter(lambda x, p: f'{x:.0%}')\n",
    "plt.xlabel('Survey Years')\n",
    "plt.ylabel('Percentage of Repondents')\n",
    "#plt.title('Percentage of Data Scientists Developers')\n",
    "plt.savefig('figs/ds_evol.png', bbox_inches='tight', dpi=300)\n",
    "plt.show()"
   ]
  },
  {
   "cell_type": "markdown",
   "id": "c79096fc",
   "metadata": {},
   "source": [
    "Here we also have not so many good news for Data Scients. For all the years, the group of data scientists developers had a greater unemployment rate compared to others developers."
   ]
  },
  {
   "cell_type": "code",
   "execution_count": 5,
   "id": "714df4b8",
   "metadata": {},
   "outputs": [
    {
     "data": {
      "text/html": [
       "<div>\n",
       "<style scoped>\n",
       "    .dataframe tbody tr th:only-of-type {\n",
       "        vertical-align: middle;\n",
       "    }\n",
       "\n",
       "    .dataframe tbody tr th {\n",
       "        vertical-align: top;\n",
       "    }\n",
       "\n",
       "    .dataframe thead th {\n",
       "        text-align: right;\n",
       "    }\n",
       "</style>\n",
       "<table border=\"1\" class=\"dataframe\">\n",
       "  <thead>\n",
       "    <tr style=\"text-align: right;\">\n",
       "      <th>data_science</th>\n",
       "      <th>False</th>\n",
       "      <th>True</th>\n",
       "    </tr>\n",
       "    <tr>\n",
       "      <th>year</th>\n",
       "      <th></th>\n",
       "      <th></th>\n",
       "    </tr>\n",
       "  </thead>\n",
       "  <tbody>\n",
       "    <tr>\n",
       "      <th>2017</th>\n",
       "      <td>0.012204</td>\n",
       "      <td>0.018915</td>\n",
       "    </tr>\n",
       "    <tr>\n",
       "      <th>2018</th>\n",
       "      <td>0.059030</td>\n",
       "      <td>0.082759</td>\n",
       "    </tr>\n",
       "    <tr>\n",
       "      <th>2019</th>\n",
       "      <td>0.065442</td>\n",
       "      <td>0.083282</td>\n",
       "    </tr>\n",
       "    <tr>\n",
       "      <th>2020</th>\n",
       "      <td>0.037834</td>\n",
       "      <td>0.056921</td>\n",
       "    </tr>\n",
       "  </tbody>\n",
       "</table>\n",
       "</div>"
      ],
      "text/plain": [
       "data_science     False     True \n",
       "year                            \n",
       "2017          0.012204  0.018915\n",
       "2018          0.059030  0.082759\n",
       "2019          0.065442  0.083282\n",
       "2020          0.037834  0.056921"
      ]
     },
     "execution_count": 5,
     "metadata": {},
     "output_type": "execute_result"
    }
   ],
   "source": [
    "(df.groupby(['data_science', 'year'])\n",
    " ['employment'].value_counts(normalize=True)\n",
    " [:,:, \"Not employed, but looking for work\"].\n",
    " rename('percent').reset_index().\n",
    " pivot(index=\"year\", values=\"percent\", columns=\"data_science\"))"
   ]
  },
  {
   "cell_type": "code",
   "execution_count": 6,
   "id": "3ceafe09",
   "metadata": {},
   "outputs": [],
   "source": [
    "employment_distribution = (df.groupby(['data_science', 'year'])['employment'].\n",
    "                           value_counts(normalize=True).rename('percent').reset_index())\n",
    "unemployed_select = employment_distribution['employment'] == \"Not employed, but looking for work\"\n",
    "unemployed_evol = (employment_distribution.loc[unemployed_select].\n",
    "                   pivot(index='year', values='percent', columns='data_science'))"
   ]
  },
  {
   "cell_type": "code",
   "execution_count": 7,
   "id": "c51aa3aa",
   "metadata": {},
   "outputs": [
    {
     "data": {
      "image/png": "[encoded data removed]",
      "text/plain": [
       "<Figure size 864x432 with 1 Axes>"
      ]
     },
     "metadata": {},
     "output_type": "display_data"
    }
   ],
   "source": [
    "ax = unemployed_evol.plot(figsize=(12, 6), marker='.', markersize=12)\n",
    "plt.ylim(0, 0.1)\n",
    "ax.yaxis.set_major_formatter(lambda x, p: f'{x:.0%}')\n",
    "plt.legend(['Other Developers', 'Data Scientists'])\n",
    "plt.xticks([2017, 2018, 2019, 2020])\n",
    "plt.xlabel('Survey Years')\n",
    "plt.ylabel('Percentage of Repondents')\n",
    "#plt.title('Comparasion of the Evolution of Unemployment Rate Between\\nData Scientists and Other Developers')\n",
    "plt.savefig('figs/ds_enemplyment.png', bbox_inches='tight', dpi=300)\n",
    "plt.show()"
   ]
  },
  {
   "cell_type": "code",
   "execution_count": 8,
   "id": "a3ab832d",
   "metadata": {},
   "outputs": [
    {
     "data": {
      "text/plain": [
       "year\n",
       "2017    0.67\n",
       "2018    2.37\n",
       "2019    1.78\n",
       "2020    1.91\n",
       "dtype: float64"
      ]
     },
     "execution_count": 8,
     "metadata": {},
     "output_type": "execute_result"
    }
   ],
   "source": [
    "(unemployed_evol[True] - unemployed_evol[False]).mul(100).round(2)"
   ]
  },
  {
   "cell_type": "markdown",
   "id": "e0ab71b7",
   "metadata": {},
   "source": [
    "In all year the unemployment rate of data scientists were higher than that of the other developers. The highest difference occured in 2018 were we had a difference of 2.37p.p."
   ]
  },
  {
   "cell_type": "code",
   "execution_count": 9,
   "id": "e18ff0f7",
   "metadata": {},
   "outputs": [
    {
     "data": {
      "text/html": [
       "<div>\n",
       "<style scoped>\n",
       "    .dataframe tbody tr th:only-of-type {\n",
       "        vertical-align: middle;\n",
       "    }\n",
       "\n",
       "    .dataframe tbody tr th {\n",
       "        vertical-align: top;\n",
       "    }\n",
       "\n",
       "    .dataframe thead th {\n",
       "        text-align: right;\n",
       "    }\n",
       "</style>\n",
       "<table border=\"1\" class=\"dataframe\">\n",
       "  <thead>\n",
       "    <tr style=\"text-align: right;\">\n",
       "      <th></th>\n",
       "      <th>Percent Unemployed</th>\n",
       "    </tr>\n",
       "    <tr>\n",
       "      <th>data_science</th>\n",
       "      <th></th>\n",
       "    </tr>\n",
       "  </thead>\n",
       "  <tbody>\n",
       "    <tr>\n",
       "      <th>False</th>\n",
       "      <td>5.06</td>\n",
       "    </tr>\n",
       "    <tr>\n",
       "      <th>True</th>\n",
       "      <td>6.71</td>\n",
       "    </tr>\n",
       "  </tbody>\n",
       "</table>\n",
       "</div>"
      ],
      "text/plain": [
       "              Percent Unemployed\n",
       "data_science                    \n",
       "False                       5.06\n",
       "True                        6.71"
      ]
     },
     "execution_count": 9,
     "metadata": {},
     "output_type": "execute_result"
    }
   ],
   "source": [
    "(df.groupby('data_science')['employment'].\n",
    " value_counts(normalize=True)[:, \"Not employed, but looking for work\"].\n",
    " mul(100).round(2).to_frame('Percent Unemployed'))"
   ]
  },
  {
   "cell_type": "markdown",
   "id": "1f51f7ac",
   "metadata": {},
   "source": [
    "With this additional evidence it becames more difficult to believe that data science is really promising at te moment. Maybe the oportunity is already gone. Maybe our survey data is biases and doesn't represent the real population of data scientists. But from the information available in this analysis we couldn't confirm our initial hypothesis that data science is a promissing profession."
   ]
  }
 ],
 "metadata": {
  "kernelspec": {
   "display_name": "Python 3",
   "language": "python",
   "name": "python3"
  },
  "language_info": {
   "codemirror_mode": {
    "name": "ipython",
    "version": 3
   },
   "file_extension": ".py",
   "mimetype": "text/x-python",
   "name": "python",
   "nbconvert_exporter": "python",
   "pygments_lexer": "ipython3",
   "version": "3.9.5"
  }
 },
 "nbformat": 4,
 "nbformat_minor": 5
}
