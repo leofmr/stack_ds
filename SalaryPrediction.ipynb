{
 "cells": [
  {
   "cell_type": "markdown",
   "id": "5c1811a2",
   "metadata": {},
   "source": [
    "# Introduction\n",
    "\n",
    "In this notebook we will make a regression model in order to understand what is more correlated to data scientitsts salaries. We will be using the data from 2020 Stack Overlfow Survey. Since we want to have a better understanding we will be using a linear regression model instead of a more flexible models.\n",
    "\n",
    "# Imports"
   ]
  },
  {
   "cell_type": "code",
   "execution_count": 1,
   "id": "5c15dc69-6ff2-4933-8aef-07a5738630d1",
   "metadata": {},
   "outputs": [],
   "source": [
    "import pandas as pd\n",
    "import numpy as np\n",
    "import matplotlib.pyplot as plt\n",
    "import seaborn as sns\n",
    "import statsmodels.api as sm\n",
    "import os\n",
    "from statsmodels.stats.outliers_influence import variance_inflation_factor\n",
    "\n",
    "sns.set(context='notebook', style='whitegrid', font_scale=1)"
   ]
  },
  {
   "cell_type": "markdown",
   "id": "51ea881e",
   "metadata": {},
   "source": [
    "# Loading Data"
   ]
  },
  {
   "cell_type": "code",
   "execution_count": 2,
   "id": "2cd6d350",
   "metadata": {},
   "outputs": [
    {
     "data": {
      "text/plain": [
       "(64461, 60)"
      ]
     },
     "execution_count": 2,
     "metadata": {},
     "output_type": "execute_result"
    }
   ],
   "source": [
    "data_folder = 'data'\n",
    "file_path = os.path.join(data_folder, '2020_data.zip')\n",
    "df = pd.read_csv(file_path, index_col='Respondent')\n",
    "df.shape"
   ]
  },
  {
   "cell_type": "code",
   "execution_count": 3,
   "id": "8b6f33b8",
   "metadata": {},
   "outputs": [
    {
     "data": {
      "text/plain": [
       "(2619, 60)"
      ]
     },
     "execution_count": 3,
     "metadata": {},
     "output_type": "execute_result"
    }
   ],
   "source": [
    "df.dropna(subset=['ConvertedComp', 'DevType'], inplace=True)\n",
    "ds = df['DevType'].str.contains('Data scientist or machine learning specialist')\n",
    "ds_df = df[ds].copy()\n",
    "ds_df.shape"
   ]
  },
  {
   "cell_type": "markdown",
   "id": "8eb484b0",
   "metadata": {},
   "source": [
    "# Compensations\n",
    "\n",
    "In our dataset we have two variables that can be used to measure professionals compensations: `CompTotal` and `ConvertedComp`. Taking a look at some statistics from both variables, it can be seen that `CompTotal` has a much greater standard deviation. This is a result from the different measures of currency in wich `CompTotal` is being measured as well as different periodicity. `ConvertedComp` annualize the `CompTotal` and convert all values to US$. As such it is a better value to used as our regression model dependent variable.\n",
    "\n",
    "The only transformation that we will be doing is to make the `ConvertedComp` into a monthly compensation."
   ]
  },
  {
   "cell_type": "code",
   "execution_count": 4,
   "id": "52ec1fbc",
   "metadata": {},
   "outputs": [
    {
     "data": {
      "text/html": [
       "<div>\n",
       "<style scoped>\n",
       "    .dataframe tbody tr th:only-of-type {\n",
       "        vertical-align: middle;\n",
       "    }\n",
       "\n",
       "    .dataframe tbody tr th {\n",
       "        vertical-align: top;\n",
       "    }\n",
       "\n",
       "    .dataframe thead th {\n",
       "        text-align: right;\n",
       "    }\n",
       "</style>\n",
       "<table border=\"1\" class=\"dataframe\">\n",
       "  <thead>\n",
       "    <tr style=\"text-align: right;\">\n",
       "      <th></th>\n",
       "      <th>CompTotal</th>\n",
       "      <th>ConvertedComp</th>\n",
       "    </tr>\n",
       "  </thead>\n",
       "  <tbody>\n",
       "    <tr>\n",
       "      <th>count</th>\n",
       "      <td>2.619000e+03</td>\n",
       "      <td>2619.00</td>\n",
       "    </tr>\n",
       "    <tr>\n",
       "      <th>mean</th>\n",
       "      <td>3.181876e+145</td>\n",
       "      <td>10325.93</td>\n",
       "    </tr>\n",
       "    <tr>\n",
       "      <th>std</th>\n",
       "      <td>1.628362e+147</td>\n",
       "      <td>23288.35</td>\n",
       "    </tr>\n",
       "    <tr>\n",
       "      <th>min</th>\n",
       "      <td>0.000000e+00</td>\n",
       "      <td>0.00</td>\n",
       "    </tr>\n",
       "    <tr>\n",
       "      <th>25%</th>\n",
       "      <td>2.208330e+03</td>\n",
       "      <td>2158.50</td>\n",
       "    </tr>\n",
       "    <tr>\n",
       "      <th>50%</th>\n",
       "      <td>5.833330e+03</td>\n",
       "      <td>4833.33</td>\n",
       "    </tr>\n",
       "    <tr>\n",
       "      <th>75%</th>\n",
       "      <td>1.250000e+04</td>\n",
       "      <td>8733.88</td>\n",
       "    </tr>\n",
       "    <tr>\n",
       "      <th>max</th>\n",
       "      <td>8.333333e+148</td>\n",
       "      <td>166666.67</td>\n",
       "    </tr>\n",
       "  </tbody>\n",
       "</table>\n",
       "</div>"
      ],
      "text/plain": [
       "           CompTotal  ConvertedComp\n",
       "count   2.619000e+03        2619.00\n",
       "mean   3.181876e+145       10325.93\n",
       "std    1.628362e+147       23288.35\n",
       "min     0.000000e+00           0.00\n",
       "25%     2.208330e+03        2158.50\n",
       "50%     5.833330e+03        4833.33\n",
       "75%     1.250000e+04        8733.88\n",
       "max    8.333333e+148      166666.67"
      ]
     },
     "execution_count": 4,
     "metadata": {},
     "output_type": "execute_result"
    }
   ],
   "source": [
    "ds_df[['CompTotal', 'ConvertedComp']].div(12).describe().round(2)"
   ]
  },
  {
   "cell_type": "code",
   "execution_count": 5,
   "id": "ac627eba",
   "metadata": {},
   "outputs": [
    {
     "data": {
      "image/png": "[encoded data removed]",
      "text/plain": [
       "<Figure size 432x288 with 1 Axes>"
      ]
     },
     "metadata": {},
     "output_type": "display_data"
    }
   ],
   "source": [
    "y = ds_df['ConvertedComp'].div(12)\n",
    "ax = y.hist(bins=50, density=True)\n",
    "ax.xaxis.set_major_formatter(lambda x, p: f'{x/1000:.0f}k')\n",
    "plt.xlabel('Monthly Compensations (thousand $)')\n",
    "plt.ylabel('Density')\n",
    "plt.title('Compensations Distribution')\n",
    "plt.show()"
   ]
  },
  {
   "cell_type": "markdown",
   "id": "1a7e3dd7",
   "metadata": {},
   "source": [
    "From the looks of the distribution and also from the distribution quartils values, we can see that `ConvertedComp` distribution is highly skewed. In order to make it less skewed we will be using a log transformation. Another benefit of this transformation is that it will makes it easier to identify patterns and linear correlations. But before making this transformation we need to exclude the `0` values."
   ]
  },
  {
   "cell_type": "code",
   "execution_count": 6,
   "id": "18e23344",
   "metadata": {},
   "outputs": [
    {
     "data": {
      "text/plain": [
       "18"
      ]
     },
     "execution_count": 6,
     "metadata": {},
     "output_type": "execute_result"
    }
   ],
   "source": [
    "(y == 0).sum()"
   ]
  },
  {
   "cell_type": "code",
   "execution_count": 7,
   "id": "f382bfe4",
   "metadata": {},
   "outputs": [
    {
     "data": {
      "image/png": "[encoded data removed]",
      "text/plain": [
       "<Figure size 432x288 with 1 Axes>"
      ]
     },
     "metadata": {},
     "output_type": "display_data"
    }
   ],
   "source": [
    "y.drop(y[y == 0].index, inplace=True)\n",
    "log_y = y.apply(np.log).rename('LogConvertedComp')\n",
    "\n",
    "log_y.hist(bins=50, density=True)\n",
    "plt.xlabel('Monthly Compensations (log $)')\n",
    "plt.ylabel('Density')\n",
    "plt.title('Compensations Distribution')\n",
    "plt.show()"
   ]
  },
  {
   "cell_type": "markdown",
   "id": "2d1f3a99",
   "metadata": {},
   "source": [
    "# Feature Enginneering\n",
    "\n",
    "## Categorial Variables\n",
    "\n",
    "There are a lot of categorical variables in our dataset, in order to prepare them for the model we need to change that to numeric format. For this purpose we will be one hot enconding those categorical variables with pandas `pd.get_dummies` function. Also, there are some questions in each the respondents could answer more than one category. For those questions we need to make some adaptation and separate those answers in order to identify all single options that were used. If we don't do this step and directly apply `pd.get_dummies` we would take as our categories all the combinations of categories that were selecting, greatly increasing the number of features generated by our enconding process."
   ]
  },
  {
   "cell_type": "code",
   "execution_count": 8,
   "id": "1d345bae",
   "metadata": {},
   "outputs": [],
   "source": [
    "def dumify_col(col, thereshold=0):\n",
    "    \"\"\"Transform a categorical column into multiple dummy variables\n",
    "    It was made in a way that it can transform into dummies even variables\n",
    "    that can have multiple categories into a single observation, suposing that\n",
    "    categories are seperated by ';'.\n",
    "    \"\"\"\n",
    "    \n",
    "    # separating multiple categories and expanding it into a single series\n",
    "    exploded_col = col.dropna().str.split(';').explode()\n",
    "    # computing the dummies and aggregating into the original dimension of\n",
    "    # the dataframe (minus missing obs)\n",
    "    dummies_df = (pd.get_dummies(exploded_col, prefix=col.name).\n",
    "                  reset_index().groupby('Respondent').max())\n",
    "    \n",
    "    # optional procedure of removing missing categories (columns)\n",
    "    # with a share of response below certain thereshold\n",
    "    selected_cat = dummies_df.columns[dummies_df.mean() > thereshold]\n",
    "    selected_dummies_df = dummies_df[selected_cat]\n",
    "    \n",
    "    return selected_dummies_df"
   ]
  },
  {
   "cell_type": "code",
   "execution_count": 9,
   "id": "f6e8ff19",
   "metadata": {},
   "outputs": [],
   "source": [
    "def dumify_df(df, col_list):\n",
    "    \"\"\"Apply the dumify function to a list of columns\n",
    "    All the dummies are then joined into a single dataframe with\n",
    "    the same indexes as the original dataframe. By maintaining\n",
    "    the same indexes we can identify the missing variables.\n",
    "    \"\"\"\n",
    "    \n",
    "    # initiatin a empty dataframe with the same index as the original\n",
    "    result = pd.DataFrame(index=df.index)\n",
    "    # interating over selected categorical columns to\n",
    "    # apply the dumify_col function and join the result to the\n",
    "    # new dataframe.\n",
    "    for col in col_list:\n",
    "        col_dummies = dumify_col(df[col])\n",
    "        result = result.join(col_dummies)\n",
    "        \n",
    "    return result"
   ]
  },
  {
   "cell_type": "markdown",
   "id": "4ba070ab",
   "metadata": {},
   "source": [
    "We have selected 17 categorical variables of wich resulted into 165 binary features."
   ]
  },
  {
   "cell_type": "code",
   "execution_count": 10,
   "id": "ba4ee46b",
   "metadata": {},
   "outputs": [
    {
     "data": {
      "text/plain": [
       "17"
      ]
     },
     "execution_count": 10,
     "metadata": {},
     "output_type": "execute_result"
    }
   ],
   "source": [
    "# selected variables\n",
    "categorical_cols = ['EdLevel', 'JobSat', 'LanguageWorkedWith', 'PlatformWorkedWith',\n",
    "                    'DatabaseWorkedWith', 'MainBranch',\n",
    "                    'Hobbyist', 'OrgSize', 'NEWOvertime',\n",
    "                    'MiscTechWorkedWith', 'Employment', 'NEWLearn',\n",
    "                    'Gender', 'UndergradMajor', 'JobSeek', 'JobFactors',\n",
    "                    'DevType']\n",
    "\n",
    "# testing if all are really categorical variables\n",
    "assert (ds_df[categorical_cols].dtypes == 'object').all()\n",
    "# just printing the number of categorical variables that we are using\n",
    "len(categorical_cols)"
   ]
  },
  {
   "cell_type": "markdown",
   "id": "c03db710",
   "metadata": {},
   "source": [
    "Analyzing the percentage of missing data, we can see that most of all categorical variables have a small percentage of missing data. Two variables have a much higher percentage of missings `DatabaseWorkedWith` and `MiscTechWorkedWith`. But that might be just the case of the respondent not having worked with any of those technologies instead of them simpling don't answering the question."
   ]
  },
  {
   "cell_type": "code",
   "execution_count": 11,
   "id": "2f58b407",
   "metadata": {},
   "outputs": [
    {
     "data": {
      "text/html": [
       "<div>\n",
       "<style scoped>\n",
       "    .dataframe tbody tr th:only-of-type {\n",
       "        vertical-align: middle;\n",
       "    }\n",
       "\n",
       "    .dataframe tbody tr th {\n",
       "        vertical-align: top;\n",
       "    }\n",
       "\n",
       "    .dataframe thead th {\n",
       "        text-align: right;\n",
       "    }\n",
       "</style>\n",
       "<table border=\"1\" class=\"dataframe\">\n",
       "  <thead>\n",
       "    <tr style=\"text-align: right;\">\n",
       "      <th></th>\n",
       "      <th>Missing data (%)</th>\n",
       "    </tr>\n",
       "  </thead>\n",
       "  <tbody>\n",
       "    <tr>\n",
       "      <th>DatabaseWorkedWith</th>\n",
       "      <td>17.45</td>\n",
       "    </tr>\n",
       "    <tr>\n",
       "      <th>MiscTechWorkedWith</th>\n",
       "      <td>16.23</td>\n",
       "    </tr>\n",
       "    <tr>\n",
       "      <th>Gender</th>\n",
       "      <td>8.51</td>\n",
       "    </tr>\n",
       "    <tr>\n",
       "      <th>PlatformWorkedWith</th>\n",
       "      <td>7.33</td>\n",
       "    </tr>\n",
       "    <tr>\n",
       "      <th>NEWLearn</th>\n",
       "      <td>5.00</td>\n",
       "    </tr>\n",
       "    <tr>\n",
       "      <th>UndergradMajor</th>\n",
       "      <td>5.00</td>\n",
       "    </tr>\n",
       "    <tr>\n",
       "      <th>JobFactors</th>\n",
       "      <td>4.70</td>\n",
       "    </tr>\n",
       "    <tr>\n",
       "      <th>LanguageWorkedWith</th>\n",
       "      <td>3.55</td>\n",
       "    </tr>\n",
       "    <tr>\n",
       "      <th>JobSeek</th>\n",
       "      <td>2.94</td>\n",
       "    </tr>\n",
       "    <tr>\n",
       "      <th>OrgSize</th>\n",
       "      <td>1.87</td>\n",
       "    </tr>\n",
       "    <tr>\n",
       "      <th>NEWOvertime</th>\n",
       "      <td>1.34</td>\n",
       "    </tr>\n",
       "    <tr>\n",
       "      <th>EdLevel</th>\n",
       "      <td>0.80</td>\n",
       "    </tr>\n",
       "    <tr>\n",
       "      <th>JobSat</th>\n",
       "      <td>0.19</td>\n",
       "    </tr>\n",
       "    <tr>\n",
       "      <th>Employment</th>\n",
       "      <td>0.00</td>\n",
       "    </tr>\n",
       "    <tr>\n",
       "      <th>Hobbyist</th>\n",
       "      <td>0.00</td>\n",
       "    </tr>\n",
       "    <tr>\n",
       "      <th>MainBranch</th>\n",
       "      <td>0.00</td>\n",
       "    </tr>\n",
       "    <tr>\n",
       "      <th>DevType</th>\n",
       "      <td>0.00</td>\n",
       "    </tr>\n",
       "  </tbody>\n",
       "</table>\n",
       "</div>"
      ],
      "text/plain": [
       "                    Missing data (%)\n",
       "DatabaseWorkedWith             17.45\n",
       "MiscTechWorkedWith             16.23\n",
       "Gender                          8.51\n",
       "PlatformWorkedWith              7.33\n",
       "NEWLearn                        5.00\n",
       "UndergradMajor                  5.00\n",
       "JobFactors                      4.70\n",
       "LanguageWorkedWith              3.55\n",
       "JobSeek                         2.94\n",
       "OrgSize                         1.87\n",
       "NEWOvertime                     1.34\n",
       "EdLevel                         0.80\n",
       "JobSat                          0.19\n",
       "Employment                      0.00\n",
       "Hobbyist                        0.00\n",
       "MainBranch                      0.00\n",
       "DevType                         0.00"
      ]
     },
     "execution_count": 11,
     "metadata": {},
     "output_type": "execute_result"
    }
   ],
   "source": [
    "# viewing the percent of missing observations by each categorical variable\n",
    "(ds_df[categorical_cols].isna().mean().\n",
    " mul(100).round(2).sort_values(ascending=False).\n",
    " to_frame('Missing data (%)'))"
   ]
  },
  {
   "cell_type": "markdown",
   "id": "b32c10d9",
   "metadata": {},
   "source": [
    "By viewing the distribution of unique categories for each variable, we can observe that there are some varibles with a much higher number of unique categories. That happens as a result of those unique combinations of categories variables with option to answer multiple categories."
   ]
  },
  {
   "cell_type": "code",
   "execution_count": 14,
   "id": "9ecfa88d",
   "metadata": {},
   "outputs": [
    {
     "data": {
      "text/html": [
       "<div>\n",
       "<style scoped>\n",
       "    .dataframe tbody tr th:only-of-type {\n",
       "        vertical-align: middle;\n",
       "    }\n",
       "\n",
       "    .dataframe tbody tr th {\n",
       "        vertical-align: top;\n",
       "    }\n",
       "\n",
       "    .dataframe thead th {\n",
       "        text-align: right;\n",
       "    }\n",
       "</style>\n",
       "<table border=\"1\" class=\"dataframe\">\n",
       "  <thead>\n",
       "    <tr style=\"text-align: right;\">\n",
       "      <th></th>\n",
       "      <th>Number of Unique Values</th>\n",
       "    </tr>\n",
       "  </thead>\n",
       "  <tbody>\n",
       "    <tr>\n",
       "      <th>MainBranch</th>\n",
       "      <td>2</td>\n",
       "    </tr>\n",
       "    <tr>\n",
       "      <th>Hobbyist</th>\n",
       "      <td>2</td>\n",
       "    </tr>\n",
       "    <tr>\n",
       "      <th>JobSeek</th>\n",
       "      <td>3</td>\n",
       "    </tr>\n",
       "    <tr>\n",
       "      <th>Employment</th>\n",
       "      <td>3</td>\n",
       "    </tr>\n",
       "    <tr>\n",
       "      <th>NEWLearn</th>\n",
       "      <td>4</td>\n",
       "    </tr>\n",
       "    <tr>\n",
       "      <th>NEWOvertime</th>\n",
       "      <td>5</td>\n",
       "    </tr>\n",
       "    <tr>\n",
       "      <th>JobSat</th>\n",
       "      <td>5</td>\n",
       "    </tr>\n",
       "    <tr>\n",
       "      <th>Gender</th>\n",
       "      <td>6</td>\n",
       "    </tr>\n",
       "    <tr>\n",
       "      <th>EdLevel</th>\n",
       "      <td>9</td>\n",
       "    </tr>\n",
       "    <tr>\n",
       "      <th>OrgSize</th>\n",
       "      <td>9</td>\n",
       "    </tr>\n",
       "    <tr>\n",
       "      <th>UndergradMajor</th>\n",
       "      <td>12</td>\n",
       "    </tr>\n",
       "    <tr>\n",
       "      <th>JobFactors</th>\n",
       "      <td>195</td>\n",
       "    </tr>\n",
       "    <tr>\n",
       "      <th>MiscTechWorkedWith</th>\n",
       "      <td>634</td>\n",
       "    </tr>\n",
       "    <tr>\n",
       "      <th>DatabaseWorkedWith</th>\n",
       "      <td>643</td>\n",
       "    </tr>\n",
       "    <tr>\n",
       "      <th>PlatformWorkedWith</th>\n",
       "      <td>991</td>\n",
       "    </tr>\n",
       "    <tr>\n",
       "      <th>DevType</th>\n",
       "      <td>1140</td>\n",
       "    </tr>\n",
       "    <tr>\n",
       "      <th>LanguageWorkedWith</th>\n",
       "      <td>1415</td>\n",
       "    </tr>\n",
       "  </tbody>\n",
       "</table>\n",
       "</div>"
      ],
      "text/plain": [
       "                    Number of Unique Values\n",
       "MainBranch                                2\n",
       "Hobbyist                                  2\n",
       "JobSeek                                   3\n",
       "Employment                                3\n",
       "NEWLearn                                  4\n",
       "NEWOvertime                               5\n",
       "JobSat                                    5\n",
       "Gender                                    6\n",
       "EdLevel                                   9\n",
       "OrgSize                                   9\n",
       "UndergradMajor                           12\n",
       "JobFactors                              195\n",
       "MiscTechWorkedWith                      634\n",
       "DatabaseWorkedWith                      643\n",
       "PlatformWorkedWith                      991\n",
       "DevType                                1140\n",
       "LanguageWorkedWith                     1415"
      ]
     },
     "execution_count": 14,
     "metadata": {},
     "output_type": "execute_result"
    }
   ],
   "source": [
    "ds_df[categorical_cols].nunique().sort_values().to_frame('Number of Unique Values')"
   ]
  },
  {
   "cell_type": "markdown",
   "id": "3a42dd51",
   "metadata": {},
   "source": [
    "If we would considere all that multiple combinations as features of our model we would end up with more features than observations making our linear regression model impossible to run."
   ]
  },
  {
   "cell_type": "code",
   "execution_count": 15,
   "id": "8d73c3f6",
   "metadata": {},
   "outputs": [
    {
     "data": {
      "text/plain": [
       "5078"
      ]
     },
     "execution_count": 15,
     "metadata": {},
     "output_type": "execute_result"
    }
   ],
   "source": [
    "ds_df[categorical_cols].nunique().sort_values().sum()"
   ]
  },
  {
   "cell_type": "code",
   "execution_count": 16,
   "id": "8df868e2",
   "metadata": {},
   "outputs": [
    {
     "data": {
      "text/plain": [
       "(2619, 165)"
      ]
     },
     "execution_count": 16,
     "metadata": {},
     "output_type": "execute_result"
    }
   ],
   "source": [
    "# selected data with categorical dummies \n",
    "dummies_df = dumify_df(ds_df, categorical_cols)\n",
    "# filling the dummiues cols missing with 0\n",
    "# also adjusting their datatype to uint8 witch is of integers from 0 to 255 (1-byte)\n",
    "dummies_df.fillna(0, inplace=True)\n",
    "dummies_df.astype('uint8')\n",
    "dummies_df.shape"
   ]
  },
  {
   "cell_type": "code",
   "execution_count": 17,
   "id": "8715bbe8",
   "metadata": {},
   "outputs": [
    {
     "data": {
      "text/plain": [
       "DevType_Data scientist or machine learning specialist                   100.00\n",
       "Employment_Employed full-time                                            86.25\n",
       "Gender_Man                                                               82.40\n",
       "LanguageWorkedWith_Python                                                82.25\n",
       "Hobbyist_Yes                                                             81.06\n",
       "MainBranch_I am a developer by profession                                78.66\n",
       "PlatformWorkedWith_Linux                                                 67.81\n",
       "LanguageWorkedWith_SQL                                                   60.63\n",
       "JobSeek_I’m not actively looking, but I am open to new opportunities     57.66\n",
       "MiscTechWorkedWith_Pandas                                                52.96\n",
       "dtype: float64"
      ]
     },
     "execution_count": 17,
     "metadata": {},
     "output_type": "execute_result"
    }
   ],
   "source": [
    "dummies_df.mean().sort_values(ascending=False).head(10).mul(100).round(2)"
   ]
  },
  {
   "cell_type": "markdown",
   "id": "55a27946",
   "metadata": {},
   "source": [
    "Since we are selecting only Data Scientists it is expected that all respondents have selected the respective option in their `DevType` answer. Since the dummie `DevType_Data scientist or machine learning specialist` won't add new information, and worse, will be colinear to the intercept we will be droping it from our dummies dataset."
   ]
  },
  {
   "cell_type": "code",
   "execution_count": 18,
   "id": "52bb08c8",
   "metadata": {},
   "outputs": [],
   "source": [
    "# drop the column generated from the Data scientist Data Type\n",
    "# this is importante since we are only selecing data scientists\n",
    "# wich would turn this column into one with only 1s.\n",
    "dummies_df.drop(columns=['DevType_Data scientist or machine learning specialist'], inplace=True)"
   ]
  },
  {
   "cell_type": "markdown",
   "id": "ac0e0999",
   "metadata": {},
   "source": [
    "## Numerical Variables"
   ]
  },
  {
   "cell_type": "markdown",
   "id": "ba52fb44",
   "metadata": {},
   "source": [
    "We also select other three numerical variables that might be correlated with the `ConvertedComp` variable."
   ]
  },
  {
   "cell_type": "code",
   "execution_count": 70,
   "id": "e02eb3f7",
   "metadata": {},
   "outputs": [
    {
     "data": {
      "text/plain": [
       "(2619, 3)"
      ]
     },
     "execution_count": 70,
     "metadata": {},
     "output_type": "execute_result"
    }
   ],
   "source": [
    "numeric_cols = ['WorkWeekHrs', 'Age', 'YearsCodePro']\n",
    "numeric_df = ds_df[numeric_cols].copy()\n",
    "numeric_df.shape"
   ]
  },
  {
   "cell_type": "markdown",
   "id": "95680990",
   "metadata": {},
   "source": [
    "Of those three variables expected to be numerical, `WorkWeekHrs` has the `object` type. In order to identify the possible problem, we will try to identify what are observations that prevent `WorkWeekHrs` to be encoded as numeric column."
   ]
  },
  {
   "cell_type": "code",
   "execution_count": 71,
   "id": "95eed7ec",
   "metadata": {},
   "outputs": [
    {
     "data": {
      "text/plain": [
       "WorkWeekHrs     float64\n",
       "Age             float64\n",
       "YearsCodePro     object\n",
       "dtype: object"
      ]
     },
     "execution_count": 71,
     "metadata": {},
     "output_type": "execute_result"
    }
   ],
   "source": [
    "numeric_df.dtypes"
   ]
  },
  {
   "cell_type": "code",
   "execution_count": 26,
   "id": "81a7196a",
   "metadata": {},
   "outputs": [
    {
     "data": {
      "text/plain": [
       "Less than 1 year      4.28\n",
       "More than 50 years    0.15\n",
       "Name: YearsCodePro, dtype: float64"
      ]
     },
     "execution_count": 26,
     "metadata": {},
     "output_type": "execute_result"
    }
   ],
   "source": [
    "def indentify_str_cols(value):\n",
    "    \"\"\"Try to convert the variable into a float\n",
    "    if it is not possible, return the string.\n",
    "    \"\"\"\n",
    "    \n",
    "    try:\n",
    "        float(value)\n",
    "    except:\n",
    "        return value\n",
    "\n",
    "# apply the str identification to the YearsCodePro\n",
    "# removing the missing values (observation that could be converted to float)\n",
    "# and return the unique string values\n",
    "(ds_df['YearsCodePro'].apply(indentify_str_cols).\n",
    " value_counts().div(ds_df.shape[0]).mul(100).round(2))"
   ]
  },
  {
   "cell_type": "markdown",
   "id": "ee712cee",
   "metadata": {},
   "source": []
  },
  {
   "cell_type": "code",
   "execution_count": 73,
   "id": "807e6559",
   "metadata": {},
   "outputs": [],
   "source": [
    "def convert_string(string):\n",
    "    \"\"\"Used to convert string into a float variable\n",
    "    To be applied into YearsCodePro that is almost a numerical\n",
    "    column, but have a two possible answers that are string.\n",
    "    This function converts then to a numerical approximation counterpart.\n",
    "    \"\"\"\n",
    "    \n",
    "    if string == 'More than 50 years':\n",
    "        return 50\n",
    "    elif string == 'Less than 1 year':\n",
    "        return 0\n",
    "    else:\n",
    "        return float(string)"
   ]
  },
  {
   "cell_type": "code",
   "execution_count": 74,
   "id": "17cf1388",
   "metadata": {},
   "outputs": [
    {
     "data": {
      "text/plain": [
       "dtype('float64')"
      ]
     },
     "execution_count": 74,
     "metadata": {},
     "output_type": "execute_result"
    }
   ],
   "source": [
    "numeric_df['YearsCodePro'] = numeric_df['YearsCodePro'].apply(convert_string)\n",
    "numeric_df['YearsCodePro'].dtype"
   ]
  },
  {
   "cell_type": "code",
   "execution_count": 75,
   "id": "b0365914",
   "metadata": {},
   "outputs": [
    {
     "data": {
      "text/html": [
       "<div>\n",
       "<style scoped>\n",
       "    .dataframe tbody tr th:only-of-type {\n",
       "        vertical-align: middle;\n",
       "    }\n",
       "\n",
       "    .dataframe tbody tr th {\n",
       "        vertical-align: top;\n",
       "    }\n",
       "\n",
       "    .dataframe thead th {\n",
       "        text-align: right;\n",
       "    }\n",
       "</style>\n",
       "<table border=\"1\" class=\"dataframe\">\n",
       "  <thead>\n",
       "    <tr style=\"text-align: right;\">\n",
       "      <th></th>\n",
       "      <th>WorkWeekHrs</th>\n",
       "      <th>Age</th>\n",
       "      <th>YearsCodePro</th>\n",
       "    </tr>\n",
       "  </thead>\n",
       "  <tbody>\n",
       "    <tr>\n",
       "      <th>count</th>\n",
       "      <td>2523.00</td>\n",
       "      <td>2296.00</td>\n",
       "      <td>2609.00</td>\n",
       "    </tr>\n",
       "    <tr>\n",
       "      <th>mean</th>\n",
       "      <td>41.59</td>\n",
       "      <td>31.91</td>\n",
       "      <td>7.84</td>\n",
       "    </tr>\n",
       "    <tr>\n",
       "      <th>std</th>\n",
       "      <td>16.72</td>\n",
       "      <td>8.22</td>\n",
       "      <td>7.61</td>\n",
       "    </tr>\n",
       "    <tr>\n",
       "      <th>min</th>\n",
       "      <td>4.00</td>\n",
       "      <td>12.00</td>\n",
       "      <td>0.00</td>\n",
       "    </tr>\n",
       "    <tr>\n",
       "      <th>25%</th>\n",
       "      <td>39.00</td>\n",
       "      <td>26.00</td>\n",
       "      <td>3.00</td>\n",
       "    </tr>\n",
       "    <tr>\n",
       "      <th>50%</th>\n",
       "      <td>40.00</td>\n",
       "      <td>30.00</td>\n",
       "      <td>5.00</td>\n",
       "    </tr>\n",
       "    <tr>\n",
       "      <th>75%</th>\n",
       "      <td>45.00</td>\n",
       "      <td>36.00</td>\n",
       "      <td>10.00</td>\n",
       "    </tr>\n",
       "    <tr>\n",
       "      <th>max</th>\n",
       "      <td>375.00</td>\n",
       "      <td>85.00</td>\n",
       "      <td>50.00</td>\n",
       "    </tr>\n",
       "  </tbody>\n",
       "</table>\n",
       "</div>"
      ],
      "text/plain": [
       "       WorkWeekHrs      Age  YearsCodePro\n",
       "count      2523.00  2296.00       2609.00\n",
       "mean         41.59    31.91          7.84\n",
       "std          16.72     8.22          7.61\n",
       "min           4.00    12.00          0.00\n",
       "25%          39.00    26.00          3.00\n",
       "50%          40.00    30.00          5.00\n",
       "75%          45.00    36.00         10.00\n",
       "max         375.00    85.00         50.00"
      ]
     },
     "execution_count": 75,
     "metadata": {},
     "output_type": "execute_result"
    }
   ],
   "source": [
    "numeric_df.describe().round(2)"
   ]
  },
  {
   "cell_type": "code",
   "execution_count": 80,
   "id": "44cca5ca",
   "metadata": {},
   "outputs": [
    {
     "data": {
      "image/png": "[encoded data removed]",
      "text/plain": [
       "<Figure size 1008x504 with 4 Axes>"
      ]
     },
     "metadata": {},
     "output_type": "display_data"
    }
   ],
   "source": [
    "numeric_df.hist(figsize=(14,7));"
   ]
  },
  {
   "cell_type": "code",
   "execution_count": 83,
   "id": "89f2a093",
   "metadata": {},
   "outputs": [
    {
     "data": {
      "text/plain": [
       "199"
      ]
     },
     "execution_count": 83,
     "metadata": {},
     "output_type": "execute_result"
    }
   ],
   "source": [
    "outliers = (numeric_df['WorkWeekHrs'] > 50)\n",
    "outliers.sum()"
   ]
  },
  {
   "cell_type": "code",
   "execution_count": 103,
   "id": "d9aa0fe0",
   "metadata": {},
   "outputs": [
    {
     "data": {
      "image/png": "[encoded data removed]",
      "text/plain": [
       "<Figure size 432x288 with 1 Axes>"
      ]
     },
     "metadata": {},
     "output_type": "display_data"
    }
   ],
   "source": [
    "numeric_df.loc[outliers, 'WorkWeekHrs'].hist(bins=10);"
   ]
  },
  {
   "cell_type": "code",
   "execution_count": 89,
   "id": "929423c9",
   "metadata": {},
   "outputs": [
    {
     "data": {
      "text/plain": [
       "168"
      ]
     },
     "execution_count": 89,
     "metadata": {},
     "output_type": "execute_result"
    }
   ],
   "source": [
    "maximum_possible_hours = 7 * 24\n",
    "maximum_possible_hours"
   ]
  },
  {
   "cell_type": "code",
   "execution_count": 91,
   "id": "dd9f64ad",
   "metadata": {},
   "outputs": [],
   "source": [
    "hour_threshold = 7 * 16\n",
    "unreliable_data = numeric_df['WorkWeekHrs'] >= hour_threshold\n",
    "numeric_df.loc[unreliable_data, 'WorkWeekHrs'] = np.NAN"
   ]
  },
  {
   "cell_type": "code",
   "execution_count": 96,
   "id": "b7a7d489",
   "metadata": {},
   "outputs": [
    {
     "data": {
      "text/html": [
       "<div>\n",
       "<style scoped>\n",
       "    .dataframe tbody tr th:only-of-type {\n",
       "        vertical-align: middle;\n",
       "    }\n",
       "\n",
       "    .dataframe tbody tr th {\n",
       "        vertical-align: top;\n",
       "    }\n",
       "\n",
       "    .dataframe thead th {\n",
       "        text-align: right;\n",
       "    }\n",
       "</style>\n",
       "<table border=\"1\" class=\"dataframe\">\n",
       "  <thead>\n",
       "    <tr style=\"text-align: right;\">\n",
       "      <th></th>\n",
       "      <th>Missing data (%)</th>\n",
       "    </tr>\n",
       "  </thead>\n",
       "  <tbody>\n",
       "    <tr>\n",
       "      <th>YearsCodePro</th>\n",
       "      <td>0.38</td>\n",
       "    </tr>\n",
       "    <tr>\n",
       "      <th>WorkWeekHrs</th>\n",
       "      <td>4.24</td>\n",
       "    </tr>\n",
       "    <tr>\n",
       "      <th>Age</th>\n",
       "      <td>12.33</td>\n",
       "    </tr>\n",
       "  </tbody>\n",
       "</table>\n",
       "</div>"
      ],
      "text/plain": [
       "              Missing data (%)\n",
       "YearsCodePro              0.38\n",
       "WorkWeekHrs               4.24\n",
       "Age                      12.33"
      ]
     },
     "execution_count": 96,
     "metadata": {},
     "output_type": "execute_result"
    }
   ],
   "source": [
    "(numeric_df.isna().mean().\n",
    " mul(100).round(2).sort_values().\n",
    " to_frame('Missing data (%)'))"
   ]
  },
  {
   "cell_type": "code",
   "execution_count": 108,
   "id": "1783a78e",
   "metadata": {},
   "outputs": [],
   "source": [
    "# filling missing values with their variables means\n",
    "numeric_df.fillna(numeric_df.mean(), inplace=True)"
   ]
  },
  {
   "cell_type": "markdown",
   "id": "d335d88d",
   "metadata": {},
   "source": [
    "## Joining data"
   ]
  },
  {
   "cell_type": "code",
   "execution_count": 127,
   "id": "ef6ad950",
   "metadata": {},
   "outputs": [
    {
     "data": {
      "text/plain": [
       "(2601, 168)"
      ]
     },
     "execution_count": 127,
     "metadata": {},
     "output_type": "execute_result"
    }
   ],
   "source": [
    "X = numeric_df.join(dummies_df).reindex(y.index)\n",
    "X['intercept'] = 1\n",
    "X.shape"
   ]
  },
  {
   "cell_type": "markdown",
   "id": "dc2ebf19",
   "metadata": {},
   "source": [
    "# Features Selection"
   ]
  },
  {
   "cell_type": "code",
   "execution_count": 10,
   "id": "b0a44df3",
   "metadata": {},
   "outputs": [],
   "source": [
    "removed_features = []"
   ]
  },
  {
   "cell_type": "markdown",
   "id": "708807e8",
   "metadata": {},
   "source": [
    "## Correlation between numeric variables"
   ]
  },
  {
   "cell_type": "code",
   "execution_count": 11,
   "id": "ba2f40d0",
   "metadata": {},
   "outputs": [
    {
     "data": {
      "text/html": [
       "<div>\n",
       "<style scoped>\n",
       "    .dataframe tbody tr th:only-of-type {\n",
       "        vertical-align: middle;\n",
       "    }\n",
       "\n",
       "    .dataframe tbody tr th {\n",
       "        vertical-align: top;\n",
       "    }\n",
       "\n",
       "    .dataframe thead th {\n",
       "        text-align: right;\n",
       "    }\n",
       "</style>\n",
       "<table border=\"1\" class=\"dataframe\">\n",
       "  <thead>\n",
       "    <tr style=\"text-align: right;\">\n",
       "      <th></th>\n",
       "      <th>WorkWeekHrs</th>\n",
       "      <th>Age</th>\n",
       "      <th>YearsCodePro</th>\n",
       "      <th>ConvertedComp</th>\n",
       "      <th>LogConvertedComp</th>\n",
       "    </tr>\n",
       "    <tr>\n",
       "      <th>Respondent</th>\n",
       "      <th></th>\n",
       "      <th></th>\n",
       "      <th></th>\n",
       "      <th></th>\n",
       "      <th></th>\n",
       "    </tr>\n",
       "  </thead>\n",
       "  <tbody>\n",
       "    <tr>\n",
       "      <th>36</th>\n",
       "      <td>40.0</td>\n",
       "      <td>34.0</td>\n",
       "      <td>3.0</td>\n",
       "      <td>6463.000000</td>\n",
       "      <td>8.773849</td>\n",
       "    </tr>\n",
       "    <tr>\n",
       "      <th>47</th>\n",
       "      <td>40.0</td>\n",
       "      <td>53.0</td>\n",
       "      <td>28.0</td>\n",
       "      <td>6247.500000</td>\n",
       "      <td>8.739937</td>\n",
       "    </tr>\n",
       "    <tr>\n",
       "      <th>69</th>\n",
       "      <td>40.0</td>\n",
       "      <td>25.0</td>\n",
       "      <td>3.0</td>\n",
       "      <td>49544.916667</td>\n",
       "      <td>10.810635</td>\n",
       "    </tr>\n",
       "    <tr>\n",
       "      <th>125</th>\n",
       "      <td>40.0</td>\n",
       "      <td>41.0</td>\n",
       "      <td>11.0</td>\n",
       "      <td>166666.666667</td>\n",
       "      <td>12.023751</td>\n",
       "    </tr>\n",
       "    <tr>\n",
       "      <th>147</th>\n",
       "      <td>40.0</td>\n",
       "      <td>28.0</td>\n",
       "      <td>3.0</td>\n",
       "      <td>3151.333333</td>\n",
       "      <td>8.055581</td>\n",
       "    </tr>\n",
       "  </tbody>\n",
       "</table>\n",
       "</div>"
      ],
      "text/plain": [
       "            WorkWeekHrs   Age  YearsCodePro  ConvertedComp  LogConvertedComp\n",
       "Respondent                                                                  \n",
       "36                 40.0  34.0           3.0    6463.000000          8.773849\n",
       "47                 40.0  53.0          28.0    6247.500000          8.739937\n",
       "69                 40.0  25.0           3.0   49544.916667         10.810635\n",
       "125                40.0  41.0          11.0  166666.666667         12.023751\n",
       "147                40.0  28.0           3.0    3151.333333          8.055581"
      ]
     },
     "execution_count": 11,
     "metadata": {},
     "output_type": "execute_result"
    }
   ],
   "source": [
    "numeric_data = X[numeric_cols].join(y).join(log_y)\n",
    "numeric_data.head()"
   ]
  },
  {
   "cell_type": "code",
   "execution_count": 12,
   "id": "21013241",
   "metadata": {},
   "outputs": [
    {
     "data": {
      "text/html": [
       "<div>\n",
       "<style scoped>\n",
       "    .dataframe tbody tr th:only-of-type {\n",
       "        vertical-align: middle;\n",
       "    }\n",
       "\n",
       "    .dataframe tbody tr th {\n",
       "        vertical-align: top;\n",
       "    }\n",
       "\n",
       "    .dataframe thead th {\n",
       "        text-align: right;\n",
       "    }\n",
       "</style>\n",
       "<table border=\"1\" class=\"dataframe\">\n",
       "  <thead>\n",
       "    <tr style=\"text-align: right;\">\n",
       "      <th></th>\n",
       "      <th>WorkWeekHrs</th>\n",
       "      <th>Age</th>\n",
       "      <th>YearsCodePro</th>\n",
       "      <th>ConvertedComp</th>\n",
       "      <th>LogConvertedComp</th>\n",
       "    </tr>\n",
       "  </thead>\n",
       "  <tbody>\n",
       "    <tr>\n",
       "      <th>WorkWeekHrs</th>\n",
       "      <td>1.000000</td>\n",
       "      <td>0.047594</td>\n",
       "      <td>0.086083</td>\n",
       "      <td>0.089570</td>\n",
       "      <td>0.116434</td>\n",
       "    </tr>\n",
       "    <tr>\n",
       "      <th>Age</th>\n",
       "      <td>0.047594</td>\n",
       "      <td>1.000000</td>\n",
       "      <td>0.738554</td>\n",
       "      <td>0.082314</td>\n",
       "      <td>0.285452</td>\n",
       "    </tr>\n",
       "    <tr>\n",
       "      <th>YearsCodePro</th>\n",
       "      <td>0.086083</td>\n",
       "      <td>0.738554</td>\n",
       "      <td>1.000000</td>\n",
       "      <td>0.122092</td>\n",
       "      <td>0.295549</td>\n",
       "    </tr>\n",
       "    <tr>\n",
       "      <th>ConvertedComp</th>\n",
       "      <td>0.089570</td>\n",
       "      <td>0.082314</td>\n",
       "      <td>0.122092</td>\n",
       "      <td>1.000000</td>\n",
       "      <td>0.637898</td>\n",
       "    </tr>\n",
       "    <tr>\n",
       "      <th>LogConvertedComp</th>\n",
       "      <td>0.116434</td>\n",
       "      <td>0.285452</td>\n",
       "      <td>0.295549</td>\n",
       "      <td>0.637898</td>\n",
       "      <td>1.000000</td>\n",
       "    </tr>\n",
       "  </tbody>\n",
       "</table>\n",
       "</div>"
      ],
      "text/plain": [
       "                  WorkWeekHrs       Age  YearsCodePro  ConvertedComp  \\\n",
       "WorkWeekHrs          1.000000  0.047594      0.086083       0.089570   \n",
       "Age                  0.047594  1.000000      0.738554       0.082314   \n",
       "YearsCodePro         0.086083  0.738554      1.000000       0.122092   \n",
       "ConvertedComp        0.089570  0.082314      0.122092       1.000000   \n",
       "LogConvertedComp     0.116434  0.285452      0.295549       0.637898   \n",
       "\n",
       "                  LogConvertedComp  \n",
       "WorkWeekHrs               0.116434  \n",
       "Age                       0.285452  \n",
       "YearsCodePro              0.295549  \n",
       "ConvertedComp             0.637898  \n",
       "LogConvertedComp          1.000000  "
      ]
     },
     "execution_count": 12,
     "metadata": {},
     "output_type": "execute_result"
    }
   ],
   "source": [
    "numeric_data.corr()"
   ]
  },
  {
   "cell_type": "code",
   "execution_count": 13,
   "id": "e7bdd45f",
   "metadata": {},
   "outputs": [],
   "source": [
    "removed_features.append('Age')"
   ]
  },
  {
   "cell_type": "markdown",
   "id": "fe78ed5f",
   "metadata": {},
   "source": [
    "## Correlation between binary variables and the intercept by questions"
   ]
  },
  {
   "cell_type": "code",
   "execution_count": 14,
   "id": "c48d3980",
   "metadata": {},
   "outputs": [],
   "source": [
    "def jaccard_index(x, y):\n",
    "    x_y = ((x == 1) & (y == 1)).sum()\n",
    "    return x_y / (x.sum() + y.sum() - x_y)"
   ]
  },
  {
   "cell_type": "code",
   "execution_count": 15,
   "id": "1e709939",
   "metadata": {},
   "outputs": [],
   "source": [
    "correlation_threshold = 0.7"
   ]
  },
  {
   "cell_type": "code",
   "execution_count": 16,
   "id": "8c2c07c1",
   "metadata": {},
   "outputs": [
    {
     "data": {
      "text/html": [
       "<div>\n",
       "<style scoped>\n",
       "    .dataframe tbody tr th:only-of-type {\n",
       "        vertical-align: middle;\n",
       "    }\n",
       "\n",
       "    .dataframe tbody tr th {\n",
       "        vertical-align: top;\n",
       "    }\n",
       "\n",
       "    .dataframe thead th {\n",
       "        text-align: right;\n",
       "    }\n",
       "</style>\n",
       "<table border=\"1\" class=\"dataframe\">\n",
       "  <thead>\n",
       "    <tr style=\"text-align: right;\">\n",
       "      <th></th>\n",
       "      <th>LanguageWorkedWith_Python</th>\n",
       "      <th>MainBranch_I am a developer by profession</th>\n",
       "      <th>Hobbyist_Yes</th>\n",
       "      <th>Employment_Employed full-time</th>\n",
       "      <th>Gender_Man</th>\n",
       "      <th>intercept</th>\n",
       "    </tr>\n",
       "  </thead>\n",
       "  <tbody>\n",
       "    <tr>\n",
       "      <th>LanguageWorkedWith_Python</th>\n",
       "      <td>1.000000</td>\n",
       "      <td>0.677083</td>\n",
       "      <td>0.698800</td>\n",
       "      <td>0.735573</td>\n",
       "      <td>0.741568</td>\n",
       "      <td>0.822760</td>\n",
       "    </tr>\n",
       "    <tr>\n",
       "      <th>MainBranch_I am a developer by profession</th>\n",
       "      <td>0.677083</td>\n",
       "      <td>1.000000</td>\n",
       "      <td>0.686155</td>\n",
       "      <td>0.695069</td>\n",
       "      <td>0.680160</td>\n",
       "      <td>0.786621</td>\n",
       "    </tr>\n",
       "    <tr>\n",
       "      <th>Hobbyist_Yes</th>\n",
       "      <td>0.698800</td>\n",
       "      <td>0.686155</td>\n",
       "      <td>1.000000</td>\n",
       "      <td>0.721849</td>\n",
       "      <td>0.711469</td>\n",
       "      <td>0.810073</td>\n",
       "    </tr>\n",
       "    <tr>\n",
       "      <th>Employment_Employed full-time</th>\n",
       "      <td>0.735573</td>\n",
       "      <td>0.695069</td>\n",
       "      <td>0.721849</td>\n",
       "      <td>1.000000</td>\n",
       "      <td>0.735201</td>\n",
       "      <td>0.865436</td>\n",
       "    </tr>\n",
       "    <tr>\n",
       "      <th>Gender_Man</th>\n",
       "      <td>0.741568</td>\n",
       "      <td>0.680160</td>\n",
       "      <td>0.711469</td>\n",
       "      <td>0.735201</td>\n",
       "      <td>1.000000</td>\n",
       "      <td>0.825067</td>\n",
       "    </tr>\n",
       "    <tr>\n",
       "      <th>intercept</th>\n",
       "      <td>0.822760</td>\n",
       "      <td>0.786621</td>\n",
       "      <td>0.810073</td>\n",
       "      <td>0.865436</td>\n",
       "      <td>0.825067</td>\n",
       "      <td>1.000000</td>\n",
       "    </tr>\n",
       "  </tbody>\n",
       "</table>\n",
       "</div>"
      ],
      "text/plain": [
       "                                           LanguageWorkedWith_Python  \\\n",
       "LanguageWorkedWith_Python                                   1.000000   \n",
       "MainBranch_I am a developer by profession                   0.677083   \n",
       "Hobbyist_Yes                                                0.698800   \n",
       "Employment_Employed full-time                               0.735573   \n",
       "Gender_Man                                                  0.741568   \n",
       "intercept                                                   0.822760   \n",
       "\n",
       "                                           MainBranch_I am a developer by profession  \\\n",
       "LanguageWorkedWith_Python                                                   0.677083   \n",
       "MainBranch_I am a developer by profession                                   1.000000   \n",
       "Hobbyist_Yes                                                                0.686155   \n",
       "Employment_Employed full-time                                               0.695069   \n",
       "Gender_Man                                                                  0.680160   \n",
       "intercept                                                                   0.786621   \n",
       "\n",
       "                                           Hobbyist_Yes  \\\n",
       "LanguageWorkedWith_Python                      0.698800   \n",
       "MainBranch_I am a developer by profession      0.686155   \n",
       "Hobbyist_Yes                                   1.000000   \n",
       "Employment_Employed full-time                  0.721849   \n",
       "Gender_Man                                     0.711469   \n",
       "intercept                                      0.810073   \n",
       "\n",
       "                                           Employment_Employed full-time  \\\n",
       "LanguageWorkedWith_Python                                       0.735573   \n",
       "MainBranch_I am a developer by profession                       0.695069   \n",
       "Hobbyist_Yes                                                    0.721849   \n",
       "Employment_Employed full-time                                   1.000000   \n",
       "Gender_Man                                                      0.735201   \n",
       "intercept                                                       0.865436   \n",
       "\n",
       "                                           Gender_Man  intercept  \n",
       "LanguageWorkedWith_Python                    0.741568   0.822760  \n",
       "MainBranch_I am a developer by profession    0.680160   0.786621  \n",
       "Hobbyist_Yes                                 0.711469   0.810073  \n",
       "Employment_Employed full-time                0.735201   0.865436  \n",
       "Gender_Man                                   1.000000   0.825067  \n",
       "intercept                                    0.825067   1.000000  "
      ]
     },
     "execution_count": 16,
     "metadata": {},
     "output_type": "execute_result"
    }
   ],
   "source": [
    "binary_cols = categorical_cols + ['intercept']\n",
    "binary_data = X.loc[:,X.columns.str.contains('|'.join(binary_cols))]\n",
    "binary_cols_corr = binary_data.corr(jaccard_index)\n",
    "\n",
    "correlated_cols = (binary_cols_corr > correlation_threshold).sum() > 1 \n",
    "binary_cols_corr.loc[correlated_cols, correlated_cols]"
   ]
  },
  {
   "cell_type": "code",
   "execution_count": 17,
   "id": "c41a18eb",
   "metadata": {},
   "outputs": [
    {
     "data": {
      "text/plain": [
       "['Age',\n",
       " 'LanguageWorkedWith_Python',\n",
       " 'MainBranch_I am a developer by profession',\n",
       " 'Hobbyist_Yes',\n",
       " 'Employment_Employed full-time',\n",
       " 'Gender_Man']"
      ]
     },
     "execution_count": 17,
     "metadata": {},
     "output_type": "execute_result"
    }
   ],
   "source": [
    "intercept_correlated_binaries = binary_cols_corr.columns[correlated_cols].drop('intercept').tolist()\n",
    "removed_features += intercept_correlated_binaries\n",
    "removed_features"
   ]
  },
  {
   "cell_type": "code",
   "execution_count": 18,
   "id": "152715a3",
   "metadata": {},
   "outputs": [],
   "source": [
    "def select_most_efficient(data, y):\n",
    "    result = []\n",
    "    \n",
    "    for col in data.columns:\n",
    "        selected_data = data.copy()\n",
    "        selected_data.drop(columns=[col], inplace=True)\n",
    "        combination = selected_data.sum(axis=1)\n",
    "        jaccard = jaccard_index(combination, y)\n",
    "        result.append(jaccard)\n",
    "    \n",
    "    min_jaccard = min(result)\n",
    "    min_id = result.index(min_jaccard)\n",
    "    \n",
    "    return data.columns[min_id], min_jaccard"
   ]
  },
  {
   "cell_type": "code",
   "execution_count": 19,
   "id": "29dfc74b",
   "metadata": {},
   "outputs": [],
   "source": [
    "def remove_by_linear_combination(feature_matrix, categoricals, removed_cols, threshold):\n",
    "    data = feature_matrix.copy()    \n",
    "    data.drop(columns=removed_cols, inplace=True)\n",
    "    \n",
    "    drop_cols = []\n",
    "    \n",
    "    for col in categoricals:\n",
    "        selected_binary_cols = X.columns.str.startswith(col)\n",
    "        selected_binary_data = X.loc[:,selected_binary_cols].copy()\n",
    "        \n",
    "        binary_combination = selected_binary_data.sum(axis=1)\n",
    "        jaccard = jaccard_index(binary_combination, X['intercept'])\n",
    "        \n",
    "        while jaccard > threshold:\n",
    "            col_to_remove, jaccard = select_most_efficient(selected_binary_data, X['intercept'])\n",
    "            drop_cols.append(col_to_remove)\n",
    "            selected_binary_data.drop(columns=[col_to_remove], inplace=True)\n",
    "    \n",
    "    return drop_cols"
   ]
  },
  {
   "cell_type": "code",
   "execution_count": 20,
   "id": "5e570b3a",
   "metadata": {},
   "outputs": [
    {
     "data": {
      "text/plain": [
       "['Age',\n",
       " 'LanguageWorkedWith_Python',\n",
       " 'MainBranch_I am a developer by profession',\n",
       " 'Hobbyist_Yes',\n",
       " 'Employment_Employed full-time',\n",
       " 'Gender_Man',\n",
       " 'EdLevel_Master’s degree (M.A., M.S., M.Eng., MBA, etc.)',\n",
       " 'JobSat_Very satisfied',\n",
       " 'MainBranch_I am a developer by profession',\n",
       " 'Hobbyist_Yes',\n",
       " 'OrgSize_20 to 99 employees',\n",
       " 'OrgSize_10,000 or more employees',\n",
       " 'NEWOvertime_Often: 1-2 days per week or more',\n",
       " 'Employment_Employed full-time',\n",
       " 'NEWLearn_Every few months',\n",
       " 'Gender_Man',\n",
       " 'UndergradMajor_Computer science, computer engineering, or software engineering',\n",
       " 'JobSeek_I’m not actively looking, but I am open to new opportunities']"
      ]
     },
     "execution_count": 20,
     "metadata": {},
     "output_type": "execute_result"
    }
   ],
   "source": [
    "intercept_correlated_combined = remove_by_linear_combination(X, categorical_cols,\n",
    "                                                             removed_features, correlation_threshold)\n",
    "\n",
    "removed_features += intercept_correlated_combined\n",
    "removed_features"
   ]
  },
  {
   "cell_type": "markdown",
   "id": "637518ec",
   "metadata": {},
   "source": [
    "## Correlation between binary variables"
   ]
  },
  {
   "cell_type": "code",
   "execution_count": 21,
   "id": "23d9ce99",
   "metadata": {},
   "outputs": [],
   "source": [
    "def biserial_corr(y, cat):\n",
    "    \"\"\"Compute the point-biserial correlation coefficent as specified in the wikipedia article:\n",
    "    https://en.wikipedia.org/wiki/Point-biserial_correlation_coefficient\n",
    "    \n",
    "    We are using the sample correction.\n",
    "    \"\"\"\n",
    "    \n",
    "    n = y.shape[0]\n",
    "    mu = np.mean(y)\n",
    "    sum_sqr_dev = np.sum((y-mu)**2)\n",
    "    sigma_sample = np.sqrt(sum_sqr_dev/(n-1))\n",
    "    \n",
    "    g0_select = cat == 0\n",
    "    n0 = g0_select.sum()\n",
    "    mu0 = y[g0_select].mean()\n",
    "    \n",
    "    g1_select = cat == 1  \n",
    "    n1 = g1_select.sum()\n",
    "    mu1 = y[g1_select].mean()\n",
    "    \n",
    "    return   ((mu1 - mu0)/sigma_sample) * np.sqrt(n1 * n0 / (n * (n-1)))"
   ]
  },
  {
   "cell_type": "code",
   "execution_count": 22,
   "id": "a72d0189",
   "metadata": {},
   "outputs": [
    {
     "data": {
      "text/html": [
       "<div>\n",
       "<style scoped>\n",
       "    .dataframe tbody tr th:only-of-type {\n",
       "        vertical-align: middle;\n",
       "    }\n",
       "\n",
       "    .dataframe tbody tr th {\n",
       "        vertical-align: top;\n",
       "    }\n",
       "\n",
       "    .dataframe thead th {\n",
       "        text-align: right;\n",
       "    }\n",
       "</style>\n",
       "<table border=\"1\" class=\"dataframe\">\n",
       "  <thead>\n",
       "    <tr style=\"text-align: right;\">\n",
       "      <th></th>\n",
       "      <th>corr</th>\n",
       "      <th>abs_corr</th>\n",
       "      <th>corr_log</th>\n",
       "      <th>abs_corr_log</th>\n",
       "    </tr>\n",
       "  </thead>\n",
       "  <tbody>\n",
       "    <tr>\n",
       "      <th>EdLevel_Associate degree (A.A., A.S., etc.)</th>\n",
       "      <td>-0.011394</td>\n",
       "      <td>0.011394</td>\n",
       "      <td>0.021412</td>\n",
       "      <td>0.021412</td>\n",
       "    </tr>\n",
       "    <tr>\n",
       "      <th>EdLevel_Bachelor’s degree (B.A., B.S., B.Eng., etc.)</th>\n",
       "      <td>-0.009940</td>\n",
       "      <td>0.009940</td>\n",
       "      <td>-0.157126</td>\n",
       "      <td>0.157126</td>\n",
       "    </tr>\n",
       "    <tr>\n",
       "      <th>EdLevel_I never completed any formal education</th>\n",
       "      <td>0.025983</td>\n",
       "      <td>0.025983</td>\n",
       "      <td>0.002440</td>\n",
       "      <td>0.002440</td>\n",
       "    </tr>\n",
       "    <tr>\n",
       "      <th>EdLevel_Master’s degree (M.A., M.S., M.Eng., MBA, etc.)</th>\n",
       "      <td>-0.032664</td>\n",
       "      <td>0.032664</td>\n",
       "      <td>0.051512</td>\n",
       "      <td>0.051512</td>\n",
       "    </tr>\n",
       "    <tr>\n",
       "      <th>EdLevel_Other doctoral degree (Ph.D., Ed.D., etc.)</th>\n",
       "      <td>0.027203</td>\n",
       "      <td>0.027203</td>\n",
       "      <td>0.165745</td>\n",
       "      <td>0.165745</td>\n",
       "    </tr>\n",
       "    <tr>\n",
       "      <th>...</th>\n",
       "      <td>...</td>\n",
       "      <td>...</td>\n",
       "      <td>...</td>\n",
       "      <td>...</td>\n",
       "    </tr>\n",
       "    <tr>\n",
       "      <th>DevType_Marketing or sales professional</th>\n",
       "      <td>0.122270</td>\n",
       "      <td>0.122270</td>\n",
       "      <td>0.052389</td>\n",
       "      <td>0.052389</td>\n",
       "    </tr>\n",
       "    <tr>\n",
       "      <th>DevType_Product manager</th>\n",
       "      <td>0.067759</td>\n",
       "      <td>0.067759</td>\n",
       "      <td>0.044671</td>\n",
       "      <td>0.044671</td>\n",
       "    </tr>\n",
       "    <tr>\n",
       "      <th>DevType_Scientist</th>\n",
       "      <td>0.007105</td>\n",
       "      <td>0.007105</td>\n",
       "      <td>0.049083</td>\n",
       "      <td>0.049083</td>\n",
       "    </tr>\n",
       "    <tr>\n",
       "      <th>DevType_Senior executive/VP</th>\n",
       "      <td>0.118481</td>\n",
       "      <td>0.118481</td>\n",
       "      <td>0.114217</td>\n",
       "      <td>0.114217</td>\n",
       "    </tr>\n",
       "    <tr>\n",
       "      <th>DevType_System administrator</th>\n",
       "      <td>0.039527</td>\n",
       "      <td>0.039527</td>\n",
       "      <td>0.018411</td>\n",
       "      <td>0.018411</td>\n",
       "    </tr>\n",
       "  </tbody>\n",
       "</table>\n",
       "<p>164 rows × 4 columns</p>\n",
       "</div>"
      ],
      "text/plain": [
       "                                                        corr  abs_corr  \\\n",
       "EdLevel_Associate degree (A.A., A.S., etc.)        -0.011394  0.011394   \n",
       "EdLevel_Bachelor’s degree (B.A., B.S., B.Eng., ... -0.009940  0.009940   \n",
       "EdLevel_I never completed any formal education      0.025983  0.025983   \n",
       "EdLevel_Master’s degree (M.A., M.S., M.Eng., MB... -0.032664  0.032664   \n",
       "EdLevel_Other doctoral degree (Ph.D., Ed.D., etc.)  0.027203  0.027203   \n",
       "...                                                      ...       ...   \n",
       "DevType_Marketing or sales professional             0.122270  0.122270   \n",
       "DevType_Product manager                             0.067759  0.067759   \n",
       "DevType_Scientist                                   0.007105  0.007105   \n",
       "DevType_Senior executive/VP                         0.118481  0.118481   \n",
       "DevType_System administrator                        0.039527  0.039527   \n",
       "\n",
       "                                                    corr_log  abs_corr_log  \n",
       "EdLevel_Associate degree (A.A., A.S., etc.)         0.021412      0.021412  \n",
       "EdLevel_Bachelor’s degree (B.A., B.S., B.Eng., ... -0.157126      0.157126  \n",
       "EdLevel_I never completed any formal education      0.002440      0.002440  \n",
       "EdLevel_Master’s degree (M.A., M.S., M.Eng., MB...  0.051512      0.051512  \n",
       "EdLevel_Other doctoral degree (Ph.D., Ed.D., etc.)  0.165745      0.165745  \n",
       "...                                                      ...           ...  \n",
       "DevType_Marketing or sales professional             0.052389      0.052389  \n",
       "DevType_Product manager                             0.044671      0.044671  \n",
       "DevType_Scientist                                   0.049083      0.049083  \n",
       "DevType_Senior executive/VP                         0.114217      0.114217  \n",
       "DevType_System administrator                        0.018411      0.018411  \n",
       "\n",
       "[164 rows x 4 columns]"
      ]
     },
     "execution_count": 22,
     "metadata": {},
     "output_type": "execute_result"
    }
   ],
   "source": [
    "cat_cols = X.columns[X.dtypes == 'uint8']\n",
    "\n",
    "corr_list = [biserial_corr(y, X[col]) for col in cat_cols]\n",
    "corr_data = pd.DataFrame(data=corr_list, index=cat_cols, columns=['corr'])\n",
    "corr_data['abs_corr'] = corr_data['corr'].apply(abs)\n",
    "\n",
    "log_corr_list = [biserial_corr(log_y, X[col]) for col in cat_cols]\n",
    "log_corr_data = pd.DataFrame(data=log_corr_list, index=cat_cols, columns=['corr'])\n",
    "log_corr_data['abs_corr'] = log_corr_data['corr'].apply(abs)\n",
    "\n",
    "corr_data = corr_data.join(log_corr_data, rsuffix='_log')\n",
    "corr_data"
   ]
  },
  {
   "cell_type": "code",
   "execution_count": 23,
   "id": "3c22caf2",
   "metadata": {},
   "outputs": [
    {
     "data": {
      "text/plain": [
       "abs_corr        0.031670\n",
       "abs_corr_log    0.050953\n",
       "dtype: float64"
      ]
     },
     "execution_count": 23,
     "metadata": {},
     "output_type": "execute_result"
    }
   ],
   "source": [
    "corr_data[['abs_corr', 'abs_corr_log']].mean()"
   ]
  },
  {
   "cell_type": "code",
   "execution_count": 24,
   "id": "38a2bc20",
   "metadata": {},
   "outputs": [
    {
     "data": {
      "text/html": [
       "<div>\n",
       "<style scoped>\n",
       "    .dataframe tbody tr th:only-of-type {\n",
       "        vertical-align: middle;\n",
       "    }\n",
       "\n",
       "    .dataframe tbody tr th {\n",
       "        vertical-align: top;\n",
       "    }\n",
       "\n",
       "    .dataframe thead th {\n",
       "        text-align: right;\n",
       "    }\n",
       "</style>\n",
       "<table border=\"1\" class=\"dataframe\">\n",
       "  <thead>\n",
       "    <tr style=\"text-align: right;\">\n",
       "      <th></th>\n",
       "      <th>abs_corr</th>\n",
       "      <th>abs_corr_log</th>\n",
       "    </tr>\n",
       "  </thead>\n",
       "  <tbody>\n",
       "    <tr>\n",
       "      <th>count</th>\n",
       "      <td>164.0000</td>\n",
       "      <td>164.0000</td>\n",
       "    </tr>\n",
       "    <tr>\n",
       "      <th>mean</th>\n",
       "      <td>0.0317</td>\n",
       "      <td>0.0510</td>\n",
       "    </tr>\n",
       "    <tr>\n",
       "      <th>std</th>\n",
       "      <td>0.0257</td>\n",
       "      <td>0.0407</td>\n",
       "    </tr>\n",
       "    <tr>\n",
       "      <th>min</th>\n",
       "      <td>0.0002</td>\n",
       "      <td>0.0008</td>\n",
       "    </tr>\n",
       "    <tr>\n",
       "      <th>25%</th>\n",
       "      <td>0.0120</td>\n",
       "      <td>0.0206</td>\n",
       "    </tr>\n",
       "    <tr>\n",
       "      <th>50%</th>\n",
       "      <td>0.0259</td>\n",
       "      <td>0.0425</td>\n",
       "    </tr>\n",
       "    <tr>\n",
       "      <th>75%</th>\n",
       "      <td>0.0438</td>\n",
       "      <td>0.0724</td>\n",
       "    </tr>\n",
       "    <tr>\n",
       "      <th>max</th>\n",
       "      <td>0.1223</td>\n",
       "      <td>0.1817</td>\n",
       "    </tr>\n",
       "  </tbody>\n",
       "</table>\n",
       "</div>"
      ],
      "text/plain": [
       "       abs_corr  abs_corr_log\n",
       "count  164.0000      164.0000\n",
       "mean     0.0317        0.0510\n",
       "std      0.0257        0.0407\n",
       "min      0.0002        0.0008\n",
       "25%      0.0120        0.0206\n",
       "50%      0.0259        0.0425\n",
       "75%      0.0438        0.0724\n",
       "max      0.1223        0.1817"
      ]
     },
     "execution_count": 24,
     "metadata": {},
     "output_type": "execute_result"
    }
   ],
   "source": [
    "corr_data[['abs_corr', 'abs_corr_log']].describe().round(4)"
   ]
  },
  {
   "cell_type": "code",
   "execution_count": 25,
   "id": "476fb33b",
   "metadata": {},
   "outputs": [
    {
     "data": {
      "image/png": "[encoded data removed]",
      "text/plain": [
       "<Figure size 720x720 with 1 Axes>"
      ]
     },
     "metadata": {},
     "output_type": "display_data"
    }
   ],
   "source": [
    "plot_data = corr_data.sort_values(by='abs_corr_log').tail(20)['corr_log'].sort_values()\n",
    "plot_data.plot(kind='barh',figsize=(10,10));"
   ]
  },
  {
   "cell_type": "markdown",
   "id": "01c131d5",
   "metadata": {},
   "source": [
    "## Technical Features Correlations"
   ]
  },
  {
   "cell_type": "code",
   "execution_count": 26,
   "id": "6e28f9e1",
   "metadata": {},
   "outputs": [
    {
     "data": {
      "text/plain": [
       "74"
      ]
     },
     "execution_count": 26,
     "metadata": {},
     "output_type": "execute_result"
    }
   ],
   "source": [
    "interesting_features = ['DatabaseWorkedWith', 'LanguageWorkedWith', 'MiscTechWorkedWith', 'PlatformWorkedWith']\n",
    "selected_dummies_cols = X.columns[X.columns.str.contains('|'.join(interesting_features))]\n",
    "len(selected_dummies_cols)"
   ]
  },
  {
   "cell_type": "code",
   "execution_count": 27,
   "id": "aff25caa",
   "metadata": {},
   "outputs": [
    {
     "data": {
      "text/html": [
       "<div>\n",
       "<style scoped>\n",
       "    .dataframe tbody tr th:only-of-type {\n",
       "        vertical-align: middle;\n",
       "    }\n",
       "\n",
       "    .dataframe tbody tr th {\n",
       "        vertical-align: top;\n",
       "    }\n",
       "\n",
       "    .dataframe thead th {\n",
       "        text-align: right;\n",
       "    }\n",
       "</style>\n",
       "<table border=\"1\" class=\"dataframe\">\n",
       "  <thead>\n",
       "    <tr style=\"text-align: right;\">\n",
       "      <th></th>\n",
       "      <th>corr</th>\n",
       "      <th>abs_corr</th>\n",
       "    </tr>\n",
       "  </thead>\n",
       "  <tbody>\n",
       "    <tr>\n",
       "      <th>LanguageWorkedWith_Assembly</th>\n",
       "      <td>0.017639</td>\n",
       "      <td>0.017639</td>\n",
       "    </tr>\n",
       "    <tr>\n",
       "      <th>LanguageWorkedWith_Bash/Shell/PowerShell</th>\n",
       "      <td>0.154308</td>\n",
       "      <td>0.154308</td>\n",
       "    </tr>\n",
       "    <tr>\n",
       "      <th>LanguageWorkedWith_C</th>\n",
       "      <td>-0.038743</td>\n",
       "      <td>0.038743</td>\n",
       "    </tr>\n",
       "    <tr>\n",
       "      <th>LanguageWorkedWith_C#</th>\n",
       "      <td>-0.042485</td>\n",
       "      <td>0.042485</td>\n",
       "    </tr>\n",
       "    <tr>\n",
       "      <th>LanguageWorkedWith_C++</th>\n",
       "      <td>-0.023967</td>\n",
       "      <td>0.023967</td>\n",
       "    </tr>\n",
       "  </tbody>\n",
       "</table>\n",
       "</div>"
      ],
      "text/plain": [
       "                                              corr  abs_corr\n",
       "LanguageWorkedWith_Assembly               0.017639  0.017639\n",
       "LanguageWorkedWith_Bash/Shell/PowerShell  0.154308  0.154308\n",
       "LanguageWorkedWith_C                     -0.038743  0.038743\n",
       "LanguageWorkedWith_C#                    -0.042485  0.042485\n",
       "LanguageWorkedWith_C++                   -0.023967  0.023967"
      ]
     },
     "execution_count": 27,
     "metadata": {},
     "output_type": "execute_result"
    }
   ],
   "source": [
    "tech_corr_list = [biserial_corr(log_y, X[col]) for col in selected_dummies_cols]\n",
    "tech_corr_data = pd.DataFrame(data=tech_corr_list, index=selected_dummies_cols, columns=['corr'])\n",
    "tech_corr_data['abs_corr'] = tech_corr_data['corr'].apply(abs)\n",
    "tech_corr_data.head()"
   ]
  },
  {
   "cell_type": "code",
   "execution_count": 28,
   "id": "4ec6c2e5",
   "metadata": {},
   "outputs": [
    {
     "data": {
      "text/plain": [
       "count    74.000000\n",
       "mean      0.052398\n",
       "std       0.038046\n",
       "min       0.000796\n",
       "25%       0.024075\n",
       "50%       0.044211\n",
       "75%       0.078155\n",
       "max       0.154308\n",
       "Name: abs_corr, dtype: float64"
      ]
     },
     "execution_count": 28,
     "metadata": {},
     "output_type": "execute_result"
    }
   ],
   "source": [
    "tech_corr_data['abs_corr'].describe()"
   ]
  },
  {
   "cell_type": "code",
   "execution_count": 29,
   "id": "441195aa",
   "metadata": {},
   "outputs": [
    {
     "data": {
      "image/png": "[encoded data removed]",
      "text/plain": [
       "<Figure size 720x720 with 1 Axes>"
      ]
     },
     "metadata": {},
     "output_type": "display_data"
    }
   ],
   "source": [
    "plot_data = tech_corr_data.sort_values(by='abs_corr').tail(20)['corr'].sort_values()\n",
    "plot_data.plot(kind='barh',figsize=(10,10));"
   ]
  },
  {
   "cell_type": "markdown",
   "id": "f693e557",
   "metadata": {},
   "source": [
    "## Multicolinearity"
   ]
  },
  {
   "cell_type": "code",
   "execution_count": 30,
   "id": "899eca36",
   "metadata": {},
   "outputs": [],
   "source": [
    "def identify_multicolinearity(X, threshold=10):\n",
    "    \"\"\"For column in X computes its variance inflation factor and return only.\n",
    "    those factors from variables that might be causing severe multicolinearity.\n",
    "    As a rule of thumb a factor above 10 (default threshold) is problematic.\n",
    "    \n",
    "    The variance inflation factor is used to quantify the severity of multicolinearity\n",
    "    in and ols regression analysis. More specificaly, it measures how much the\n",
    "    variance of coefficient estimates is increased becase of collinearity\n",
    "    https://en.wikipedia.org/wiki/Variance_inflation_factor\n",
    "    \"\"\"\n",
    "    \n",
    "    data = [variance_inflation_factor(X.values, i)\n",
    "            for i in range(X.shape[1])]\n",
    "    vif = pd.Series(data=data, index=X.columns, name='vif_factor')\n",
    "    critical_vif = vif[vif > threshold]\n",
    "    critical_vif.drop('intercept', inplace=True)\n",
    "    return critical_vif.index"
   ]
  },
  {
   "cell_type": "code",
   "execution_count": 31,
   "id": "58ea6a1a",
   "metadata": {},
   "outputs": [
    {
     "name": "stdout",
     "output_type": "stream",
     "text": [
      "Foram removidas as seguintes colunas:\n",
      "Age, LanguageWorkedWith_Python, MainBranch_I am a developer by profession, Hobbyist_Yes, Employment_Employed full-time, Gender_Man, EdLevel_Master’s degree (M.A., M.S., M.Eng., MBA, etc.), JobSat_Very satisfied, MainBranch_I am a developer by profession, Hobbyist_Yes, OrgSize_20 to 99 employees, OrgSize_10,000 or more employees, NEWOvertime_Often: 1-2 days per week or more, Employment_Employed full-time, NEWLearn_Every few months, Gender_Man, UndergradMajor_Computer science, computer engineering, or software engineering, JobSeek_I’m not actively looking, but I am open to new opportunities\n"
     ]
    }
   ],
   "source": [
    "removed_cols = removed_features\n",
    "\n",
    "valid_cols = X.columns.drop(removed_cols)\n",
    "#valid_cols = valid_cols.drop('Age')\n",
    "#valid_cols = valid_cols.drop('Gender_Man')\n",
    "multicolinears_cols = identify_multicolinearity(X[valid_cols])\n",
    "while len(multicolinears_cols) > 0:\n",
    "    less_relevant_multicol_col = corr_data.loc[multicolinears_cols, 'abs_corr_log'].idxmin()\n",
    "    valid_cols = valid_cols.drop(less_relevant_multicol_col)\n",
    "    removed_cols.append(less_relevant_multicol_col)\n",
    "    \n",
    "    multicolinears_cols = identify_multicolinearity(X[valid_cols])\n",
    "\n",
    "print(f'Foram removidas as seguintes colunas:\\n{\", \".join(removed_cols)}')"
   ]
  },
  {
   "cell_type": "code",
   "execution_count": 32,
   "id": "102fc66d",
   "metadata": {},
   "outputs": [
    {
     "data": {
      "text/plain": [
       "intercept                                                                                        44.420318\n",
       "MiscTechWorkedWith_.NET                                                                           2.829762\n",
       "LanguageWorkedWith_C#                                                                             2.670055\n",
       "MiscTechWorkedWith_Flutter                                                                        2.533274\n",
       "MiscTechWorkedWith_.NET Core                                                                      2.478948\n",
       "                                                                                                   ...    \n",
       "NEWLearn_Once a decade                                                                            1.096447\n",
       "EdLevel_Professional degree (JD, MD, etc.)                                                        1.095241\n",
       "UndergradMajor_Fine arts or performing arts (such as graphic design, music, studio art, etc.)     1.083477\n",
       "Gender_Non-binary, genderqueer, or gender non-conforming                                          1.081640\n",
       "UndergradMajor_Web development or web design                                                      1.078744\n",
       "Name: vif_factor, Length: 154, dtype: float64"
      ]
     },
     "execution_count": 32,
     "metadata": {},
     "output_type": "execute_result"
    }
   ],
   "source": [
    "data = [variance_inflation_factor(X[valid_cols].values, i)\n",
    "        for i in range(X[valid_cols].shape[1])]\n",
    "vif = pd.Series(data=data, index=valid_cols, name='vif_factor')\n",
    "vif.sort_values(ascending=False)"
   ]
  },
  {
   "cell_type": "markdown",
   "id": "29cb3cf5",
   "metadata": {},
   "source": [
    "## Selecting significant elements"
   ]
  },
  {
   "cell_type": "code",
   "execution_count": 33,
   "id": "9b9c00f0",
   "metadata": {},
   "outputs": [],
   "source": [
    "def get_highest_pvalue(pvalues):\n",
    "    \"\"\"Exluding the intercept ,return the independent variable\n",
    "    with the highest pvalue in a ols regression model\n",
    "    \"\"\"\n",
    "    \n",
    "    valid_pvals = pvalues.drop(index='intercept')\n",
    "    return valid_pvals.idxmax()"
   ]
  },
  {
   "cell_type": "code",
   "execution_count": 34,
   "id": "22a14527",
   "metadata": {},
   "outputs": [],
   "source": [
    "def all_significant(pvalues, alpha=0.05):\n",
    "    \"\"\"Excluding the intercept verify if the coefficient of\n",
    "    all independent variables are statistical significant at\n",
    "    a alpha level.\n",
    "    \"\"\"\n",
    "    \n",
    "    valid_pvals = pvalues.drop(index='intercept')\n",
    "    condition = (valid_pvals < alpha).all()\n",
    "    \n",
    "    return condition"
   ]
  },
  {
   "cell_type": "code",
   "execution_count": 35,
   "id": "32f887da",
   "metadata": {},
   "outputs": [],
   "source": [
    "# This should be changed to select significant features.\n",
    "# instead of a model it would return only the p-values variables\n",
    "\n",
    "def model_lm(y, X):\n",
    "    \"\"\"Apply the model with feature selection\n",
    "    This \n",
    "    \"\"\"\n",
    "    \n",
    "    lm = sm.OLS(y, X)\n",
    "    result = lm.fit()\n",
    "    while not all_significant(result.pvalues):\n",
    "        var_remove = get_highest_pvalue(result.pvalues)\n",
    "        X.drop(columns=[var_remove], inplace=True)\n",
    "        lm = sm.OLS(y, X)\n",
    "        result = lm.fit()\n",
    "    return result"
   ]
  },
  {
   "cell_type": "code",
   "execution_count": 36,
   "id": "51e63cd8",
   "metadata": {
    "scrolled": true
   },
   "outputs": [
    {
     "data": {
      "text/html": [
       "<table class=\"simpletable\">\n",
       "<caption>OLS Regression Results</caption>\n",
       "<tr>\n",
       "  <th>Dep. Variable:</th>    <td>LogConvertedComp</td> <th>  R-squared:         </th> <td>   0.316</td> \n",
       "</tr>\n",
       "<tr>\n",
       "  <th>Model:</th>                   <td>OLS</td>       <th>  Adj. R-squared:    </th> <td>   0.304</td> \n",
       "</tr>\n",
       "<tr>\n",
       "  <th>Method:</th>             <td>Least Squares</td>  <th>  F-statistic:       </th> <td>   25.11</td> \n",
       "</tr>\n",
       "<tr>\n",
       "  <th>Date:</th>             <td>Mon, 26 Apr 2021</td> <th>  Prob (F-statistic):</th> <td>2.20e-174</td>\n",
       "</tr>\n",
       "<tr>\n",
       "  <th>Time:</th>                 <td>23:09:13</td>     <th>  Log-Likelihood:    </th> <td> -3890.4</td> \n",
       "</tr>\n",
       "<tr>\n",
       "  <th>No. Observations:</th>      <td>  2601</td>      <th>  AIC:               </th> <td>   7877.</td> \n",
       "</tr>\n",
       "<tr>\n",
       "  <th>Df Residuals:</th>          <td>  2553</td>      <th>  BIC:               </th> <td>   8158.</td> \n",
       "</tr>\n",
       "<tr>\n",
       "  <th>Df Model:</th>              <td>    47</td>      <th>                     </th>     <td> </td>    \n",
       "</tr>\n",
       "<tr>\n",
       "  <th>Covariance Type:</th>      <td>nonrobust</td>    <th>                     </th>     <td> </td>    \n",
       "</tr>\n",
       "</table>\n",
       "<table class=\"simpletable\">\n",
       "<tr>\n",
       "                                               <td></td>                                                  <th>coef</th>     <th>std err</th>      <th>t</th>      <th>P>|t|</th>  <th>[0.025</th>    <th>0.975]</th>  \n",
       "</tr>\n",
       "<tr>\n",
       "  <th>WorkWeekHrs</th>                                                                                 <td>    0.0044</td> <td>    0.001</td> <td>    3.265</td> <td> 0.001</td> <td>    0.002</td> <td>    0.007</td>\n",
       "</tr>\n",
       "<tr>\n",
       "  <th>YearsCodePro</th>                                                                                <td>    0.0371</td> <td>    0.003</td> <td>   11.983</td> <td> 0.000</td> <td>    0.031</td> <td>    0.043</td>\n",
       "</tr>\n",
       "<tr>\n",
       "  <th>EdLevel_Bachelor’s degree (B.A., B.S., B.Eng., etc.)</th>                                        <td>   -0.2547</td> <td>    0.050</td> <td>   -5.049</td> <td> 0.000</td> <td>   -0.354</td> <td>   -0.156</td>\n",
       "</tr>\n",
       "<tr>\n",
       "  <th>EdLevel_Other doctoral degree (Ph.D., Ed.D., etc.)</th>                                          <td>    0.2323</td> <td>    0.069</td> <td>    3.364</td> <td> 0.001</td> <td>    0.097</td> <td>    0.368</td>\n",
       "</tr>\n",
       "<tr>\n",
       "  <th>EdLevel_Some college/university study without earning a degree</th>                              <td>   -0.2036</td> <td>    0.099</td> <td>   -2.048</td> <td> 0.041</td> <td>   -0.398</td> <td>   -0.009</td>\n",
       "</tr>\n",
       "<tr>\n",
       "  <th>JobSat_Neither satisfied nor dissatisfied</th>                                                   <td>   -0.1486</td> <td>    0.075</td> <td>   -1.975</td> <td> 0.048</td> <td>   -0.296</td> <td>   -0.001</td>\n",
       "</tr>\n",
       "<tr>\n",
       "  <th>JobSat_Slightly dissatisfied</th>                                                                <td>   -0.1773</td> <td>    0.064</td> <td>   -2.793</td> <td> 0.005</td> <td>   -0.302</td> <td>   -0.053</td>\n",
       "</tr>\n",
       "<tr>\n",
       "  <th>LanguageWorkedWith_Bash/Shell/PowerShell</th>                                                    <td>    0.2149</td> <td>    0.046</td> <td>    4.641</td> <td> 0.000</td> <td>    0.124</td> <td>    0.306</td>\n",
       "</tr>\n",
       "<tr>\n",
       "  <th>LanguageWorkedWith_Java</th>                                                                     <td>   -0.1138</td> <td>    0.050</td> <td>   -2.271</td> <td> 0.023</td> <td>   -0.212</td> <td>   -0.016</td>\n",
       "</tr>\n",
       "<tr>\n",
       "  <th>LanguageWorkedWith_Julia</th>                                                                    <td>    0.3333</td> <td>    0.110</td> <td>    3.021</td> <td> 0.003</td> <td>    0.117</td> <td>    0.550</td>\n",
       "</tr>\n",
       "<tr>\n",
       "  <th>LanguageWorkedWith_Objective-C</th>                                                              <td>    0.3778</td> <td>    0.131</td> <td>    2.887</td> <td> 0.004</td> <td>    0.121</td> <td>    0.634</td>\n",
       "</tr>\n",
       "<tr>\n",
       "  <th>LanguageWorkedWith_PHP</th>                                                                      <td>   -0.2185</td> <td>    0.067</td> <td>   -3.285</td> <td> 0.001</td> <td>   -0.349</td> <td>   -0.088</td>\n",
       "</tr>\n",
       "<tr>\n",
       "  <th>LanguageWorkedWith_Scala</th>                                                                    <td>    0.2473</td> <td>    0.079</td> <td>    3.124</td> <td> 0.002</td> <td>    0.092</td> <td>    0.403</td>\n",
       "</tr>\n",
       "<tr>\n",
       "  <th>PlatformWorkedWith_AWS</th>                                                                      <td>    0.2290</td> <td>    0.050</td> <td>    4.578</td> <td> 0.000</td> <td>    0.131</td> <td>    0.327</td>\n",
       "</tr>\n",
       "<tr>\n",
       "  <th>PlatformWorkedWith_Arduino</th>                                                                  <td>   -0.3518</td> <td>    0.080</td> <td>   -4.408</td> <td> 0.000</td> <td>   -0.508</td> <td>   -0.195</td>\n",
       "</tr>\n",
       "<tr>\n",
       "  <th>PlatformWorkedWith_Docker</th>                                                                   <td>    0.1187</td> <td>    0.048</td> <td>    2.459</td> <td> 0.014</td> <td>    0.024</td> <td>    0.213</td>\n",
       "</tr>\n",
       "<tr>\n",
       "  <th>PlatformWorkedWith_Heroku</th>                                                                   <td>   -0.1627</td> <td>    0.079</td> <td>   -2.072</td> <td> 0.038</td> <td>   -0.317</td> <td>   -0.009</td>\n",
       "</tr>\n",
       "<tr>\n",
       "  <th>PlatformWorkedWith_MacOS</th>                                                                    <td>    0.2345</td> <td>    0.053</td> <td>    4.458</td> <td> 0.000</td> <td>    0.131</td> <td>    0.338</td>\n",
       "</tr>\n",
       "<tr>\n",
       "  <th>PlatformWorkedWith_Raspberry Pi</th>                                                             <td>    0.2245</td> <td>    0.063</td> <td>    3.537</td> <td> 0.000</td> <td>    0.100</td> <td>    0.349</td>\n",
       "</tr>\n",
       "<tr>\n",
       "  <th>DatabaseWorkedWith_MySQL</th>                                                                    <td>   -0.1892</td> <td>    0.049</td> <td>   -3.888</td> <td> 0.000</td> <td>   -0.285</td> <td>   -0.094</td>\n",
       "</tr>\n",
       "<tr>\n",
       "  <th>OrgSize_1,000 to 4,999 employees</th>                                                            <td>    0.1366</td> <td>    0.066</td> <td>    2.083</td> <td> 0.037</td> <td>    0.008</td> <td>    0.265</td>\n",
       "</tr>\n",
       "<tr>\n",
       "  <th>OrgSize_10 to 19 employees</th>                                                                  <td>   -0.4140</td> <td>    0.086</td> <td>   -4.799</td> <td> 0.000</td> <td>   -0.583</td> <td>   -0.245</td>\n",
       "</tr>\n",
       "<tr>\n",
       "  <th>OrgSize_2 to 9 employees</th>                                                                    <td>   -0.4893</td> <td>    0.076</td> <td>   -6.449</td> <td> 0.000</td> <td>   -0.638</td> <td>   -0.340</td>\n",
       "</tr>\n",
       "<tr>\n",
       "  <th>OrgSize_Just me - I am a freelancer, sole proprietor, etc.</th>                                  <td>   -0.4017</td> <td>    0.118</td> <td>   -3.411</td> <td> 0.001</td> <td>   -0.633</td> <td>   -0.171</td>\n",
       "</tr>\n",
       "<tr>\n",
       "  <th>NEWOvertime_Occasionally: 1-2 days per quarter but less than monthly</th>                        <td>    0.2086</td> <td>    0.058</td> <td>    3.624</td> <td> 0.000</td> <td>    0.096</td> <td>    0.321</td>\n",
       "</tr>\n",
       "<tr>\n",
       "  <th>NEWOvertime_Rarely: 1-2 days per year or less</th>                                               <td>    0.1541</td> <td>    0.066</td> <td>    2.342</td> <td> 0.019</td> <td>    0.025</td> <td>    0.283</td>\n",
       "</tr>\n",
       "<tr>\n",
       "  <th>MiscTechWorkedWith_Flutter</th>                                                                  <td>   -0.3875</td> <td>    0.125</td> <td>   -3.104</td> <td> 0.002</td> <td>   -0.632</td> <td>   -0.143</td>\n",
       "</tr>\n",
       "<tr>\n",
       "  <th>Employment_Employed part-time</th>                                                               <td>   -0.3742</td> <td>    0.104</td> <td>   -3.583</td> <td> 0.000</td> <td>   -0.579</td> <td>   -0.169</td>\n",
       "</tr>\n",
       "<tr>\n",
       "  <th>NEWLearn_Once a year</th>                                                                        <td>    0.1097</td> <td>    0.050</td> <td>    2.177</td> <td> 0.030</td> <td>    0.011</td> <td>    0.208</td>\n",
       "</tr>\n",
       "<tr>\n",
       "  <th>NEWLearn_Once every few years</th>                                                               <td>    0.1902</td> <td>    0.059</td> <td>    3.225</td> <td> 0.001</td> <td>    0.075</td> <td>    0.306</td>\n",
       "</tr>\n",
       "<tr>\n",
       "  <th>UndergradMajor_A business discipline (such as accounting, finance, marketing, etc.)</th>         <td>    0.2963</td> <td>    0.135</td> <td>    2.193</td> <td> 0.028</td> <td>    0.031</td> <td>    0.561</td>\n",
       "</tr>\n",
       "<tr>\n",
       "  <th>UndergradMajor_A humanities discipline (such as literature, history, philosophy, etc.)</th>      <td>    0.4713</td> <td>    0.183</td> <td>    2.570</td> <td> 0.010</td> <td>    0.112</td> <td>    0.831</td>\n",
       "</tr>\n",
       "<tr>\n",
       "  <th>UndergradMajor_A natural science (such as biology, chemistry, physics, etc.)</th>                <td>    0.2235</td> <td>    0.073</td> <td>    3.048</td> <td> 0.002</td> <td>    0.080</td> <td>    0.367</td>\n",
       "</tr>\n",
       "<tr>\n",
       "  <th>UndergradMajor_A social science (such as anthropology, psychology, political science, etc.)</th> <td>    0.3622</td> <td>    0.121</td> <td>    3.003</td> <td> 0.003</td> <td>    0.126</td> <td>    0.599</td>\n",
       "</tr>\n",
       "<tr>\n",
       "  <th>UndergradMajor_Mathematics or statistics</th>                                                    <td>    0.1602</td> <td>    0.069</td> <td>    2.325</td> <td> 0.020</td> <td>    0.025</td> <td>    0.295</td>\n",
       "</tr>\n",
       "<tr>\n",
       "  <th>JobSeek_I am actively looking for a job</th>                                                     <td>   -0.2082</td> <td>    0.063</td> <td>   -3.290</td> <td> 0.001</td> <td>   -0.332</td> <td>   -0.084</td>\n",
       "</tr>\n",
       "<tr>\n",
       "  <th>JobSeek_I am not interested in new job opportunities</th>                                        <td>    0.2604</td> <td>    0.054</td> <td>    4.867</td> <td> 0.000</td> <td>    0.155</td> <td>    0.365</td>\n",
       "</tr>\n",
       "<tr>\n",
       "  <th>JobFactors_How widely used or impactful my work output would be</th>                             <td>    0.1778</td> <td>    0.049</td> <td>    3.659</td> <td> 0.000</td> <td>    0.083</td> <td>    0.273</td>\n",
       "</tr>\n",
       "<tr>\n",
       "  <th>JobFactors_Industry that I’d be working in</th>                                                  <td>    0.1636</td> <td>    0.057</td> <td>    2.872</td> <td> 0.004</td> <td>    0.052</td> <td>    0.275</td>\n",
       "</tr>\n",
       "<tr>\n",
       "  <th>JobFactors_Office environment or company culture</th>                                            <td>    0.1254</td> <td>    0.046</td> <td>    2.727</td> <td> 0.006</td> <td>    0.035</td> <td>    0.216</td>\n",
       "</tr>\n",
       "<tr>\n",
       "  <th>JobFactors_Remote work options</th>                                                              <td>    0.1512</td> <td>    0.051</td> <td>    2.953</td> <td> 0.003</td> <td>    0.051</td> <td>    0.252</td>\n",
       "</tr>\n",
       "<tr>\n",
       "  <th>JobFactors_Specific department or team I’d be working on</th>                                    <td>    0.2169</td> <td>    0.061</td> <td>    3.552</td> <td> 0.000</td> <td>    0.097</td> <td>    0.337</td>\n",
       "</tr>\n",
       "<tr>\n",
       "  <th>DevType_Academic researcher</th>                                                                 <td>   -0.2705</td> <td>    0.052</td> <td>   -5.178</td> <td> 0.000</td> <td>   -0.373</td> <td>   -0.168</td>\n",
       "</tr>\n",
       "<tr>\n",
       "  <th>DevType_Designer</th>                                                                            <td>    0.1939</td> <td>    0.082</td> <td>    2.359</td> <td> 0.018</td> <td>    0.033</td> <td>    0.355</td>\n",
       "</tr>\n",
       "<tr>\n",
       "  <th>DevType_Engineer, data</th>                                                                      <td>    0.1850</td> <td>    0.048</td> <td>    3.822</td> <td> 0.000</td> <td>    0.090</td> <td>    0.280</td>\n",
       "</tr>\n",
       "<tr>\n",
       "  <th>DevType_Marketing or sales professional</th>                                                     <td>    0.3894</td> <td>    0.182</td> <td>    2.142</td> <td> 0.032</td> <td>    0.033</td> <td>    0.746</td>\n",
       "</tr>\n",
       "<tr>\n",
       "  <th>DevType_Senior executive/VP</th>                                                                 <td>    0.4407</td> <td>    0.121</td> <td>    3.650</td> <td> 0.000</td> <td>    0.204</td> <td>    0.677</td>\n",
       "</tr>\n",
       "<tr>\n",
       "  <th>intercept</th>                                                                                   <td>    7.4393</td> <td>    0.097</td> <td>   76.855</td> <td> 0.000</td> <td>    7.250</td> <td>    7.629</td>\n",
       "</tr>\n",
       "</table>\n",
       "<table class=\"simpletable\">\n",
       "<tr>\n",
       "  <th>Omnibus:</th>       <td>354.139</td> <th>  Durbin-Watson:     </th> <td>   1.942</td>\n",
       "</tr>\n",
       "<tr>\n",
       "  <th>Prob(Omnibus):</th> <td> 0.000</td>  <th>  Jarque-Bera (JB):  </th> <td>3798.274</td>\n",
       "</tr>\n",
       "<tr>\n",
       "  <th>Skew:</th>          <td>-0.233</td>  <th>  Prob(JB):          </th> <td>    0.00</td>\n",
       "</tr>\n",
       "<tr>\n",
       "  <th>Kurtosis:</th>      <td> 8.902</td>  <th>  Cond. No.          </th> <td>    396.</td>\n",
       "</tr>\n",
       "</table><br/><br/>Notes:<br/>[1] Standard Errors assume that the covariance matrix of the errors is correctly specified."
      ],
      "text/plain": [
       "<class 'statsmodels.iolib.summary.Summary'>\n",
       "\"\"\"\n",
       "                            OLS Regression Results                            \n",
       "==============================================================================\n",
       "Dep. Variable:       LogConvertedComp   R-squared:                       0.316\n",
       "Model:                            OLS   Adj. R-squared:                  0.304\n",
       "Method:                 Least Squares   F-statistic:                     25.11\n",
       "Date:                Mon, 26 Apr 2021   Prob (F-statistic):          2.20e-174\n",
       "Time:                        23:09:13   Log-Likelihood:                -3890.4\n",
       "No. Observations:                2601   AIC:                             7877.\n",
       "Df Residuals:                    2553   BIC:                             8158.\n",
       "Df Model:                          47                                         \n",
       "Covariance Type:            nonrobust                                         \n",
       "===============================================================================================================================================================\n",
       "                                                                                                  coef    std err          t      P>|t|      [0.025      0.975]\n",
       "---------------------------------------------------------------------------------------------------------------------------------------------------------------\n",
       "WorkWeekHrs                                                                                     0.0044      0.001      3.265      0.001       0.002       0.007\n",
       "YearsCodePro                                                                                    0.0371      0.003     11.983      0.000       0.031       0.043\n",
       "EdLevel_Bachelor’s degree (B.A., B.S., B.Eng., etc.)                                           -0.2547      0.050     -5.049      0.000      -0.354      -0.156\n",
       "EdLevel_Other doctoral degree (Ph.D., Ed.D., etc.)                                              0.2323      0.069      3.364      0.001       0.097       0.368\n",
       "EdLevel_Some college/university study without earning a degree                                 -0.2036      0.099     -2.048      0.041      -0.398      -0.009\n",
       "JobSat_Neither satisfied nor dissatisfied                                                      -0.1486      0.075     -1.975      0.048      -0.296      -0.001\n",
       "JobSat_Slightly dissatisfied                                                                   -0.1773      0.064     -2.793      0.005      -0.302      -0.053\n",
       "LanguageWorkedWith_Bash/Shell/PowerShell                                                        0.2149      0.046      4.641      0.000       0.124       0.306\n",
       "LanguageWorkedWith_Java                                                                        -0.1138      0.050     -2.271      0.023      -0.212      -0.016\n",
       "LanguageWorkedWith_Julia                                                                        0.3333      0.110      3.021      0.003       0.117       0.550\n",
       "LanguageWorkedWith_Objective-C                                                                  0.3778      0.131      2.887      0.004       0.121       0.634\n",
       "LanguageWorkedWith_PHP                                                                         -0.2185      0.067     -3.285      0.001      -0.349      -0.088\n",
       "LanguageWorkedWith_Scala                                                                        0.2473      0.079      3.124      0.002       0.092       0.403\n",
       "PlatformWorkedWith_AWS                                                                          0.2290      0.050      4.578      0.000       0.131       0.327\n",
       "PlatformWorkedWith_Arduino                                                                     -0.3518      0.080     -4.408      0.000      -0.508      -0.195\n",
       "PlatformWorkedWith_Docker                                                                       0.1187      0.048      2.459      0.014       0.024       0.213\n",
       "PlatformWorkedWith_Heroku                                                                      -0.1627      0.079     -2.072      0.038      -0.317      -0.009\n",
       "PlatformWorkedWith_MacOS                                                                        0.2345      0.053      4.458      0.000       0.131       0.338\n",
       "PlatformWorkedWith_Raspberry Pi                                                                 0.2245      0.063      3.537      0.000       0.100       0.349\n",
       "DatabaseWorkedWith_MySQL                                                                       -0.1892      0.049     -3.888      0.000      -0.285      -0.094\n",
       "OrgSize_1,000 to 4,999 employees                                                                0.1366      0.066      2.083      0.037       0.008       0.265\n",
       "OrgSize_10 to 19 employees                                                                     -0.4140      0.086     -4.799      0.000      -0.583      -0.245\n",
       "OrgSize_2 to 9 employees                                                                       -0.4893      0.076     -6.449      0.000      -0.638      -0.340\n",
       "OrgSize_Just me - I am a freelancer, sole proprietor, etc.                                     -0.4017      0.118     -3.411      0.001      -0.633      -0.171\n",
       "NEWOvertime_Occasionally: 1-2 days per quarter but less than monthly                            0.2086      0.058      3.624      0.000       0.096       0.321\n",
       "NEWOvertime_Rarely: 1-2 days per year or less                                                   0.1541      0.066      2.342      0.019       0.025       0.283\n",
       "MiscTechWorkedWith_Flutter                                                                     -0.3875      0.125     -3.104      0.002      -0.632      -0.143\n",
       "Employment_Employed part-time                                                                  -0.3742      0.104     -3.583      0.000      -0.579      -0.169\n",
       "NEWLearn_Once a year                                                                            0.1097      0.050      2.177      0.030       0.011       0.208\n",
       "NEWLearn_Once every few years                                                                   0.1902      0.059      3.225      0.001       0.075       0.306\n",
       "UndergradMajor_A business discipline (such as accounting, finance, marketing, etc.)             0.2963      0.135      2.193      0.028       0.031       0.561\n",
       "UndergradMajor_A humanities discipline (such as literature, history, philosophy, etc.)          0.4713      0.183      2.570      0.010       0.112       0.831\n",
       "UndergradMajor_A natural science (such as biology, chemistry, physics, etc.)                    0.2235      0.073      3.048      0.002       0.080       0.367\n",
       "UndergradMajor_A social science (such as anthropology, psychology, political science, etc.)     0.3622      0.121      3.003      0.003       0.126       0.599\n",
       "UndergradMajor_Mathematics or statistics                                                        0.1602      0.069      2.325      0.020       0.025       0.295\n",
       "JobSeek_I am actively looking for a job                                                        -0.2082      0.063     -3.290      0.001      -0.332      -0.084\n",
       "JobSeek_I am not interested in new job opportunities                                            0.2604      0.054      4.867      0.000       0.155       0.365\n",
       "JobFactors_How widely used or impactful my work output would be                                 0.1778      0.049      3.659      0.000       0.083       0.273\n",
       "JobFactors_Industry that I’d be working in                                                      0.1636      0.057      2.872      0.004       0.052       0.275\n",
       "JobFactors_Office environment or company culture                                                0.1254      0.046      2.727      0.006       0.035       0.216\n",
       "JobFactors_Remote work options                                                                  0.1512      0.051      2.953      0.003       0.051       0.252\n",
       "JobFactors_Specific department or team I’d be working on                                        0.2169      0.061      3.552      0.000       0.097       0.337\n",
       "DevType_Academic researcher                                                                    -0.2705      0.052     -5.178      0.000      -0.373      -0.168\n",
       "DevType_Designer                                                                                0.1939      0.082      2.359      0.018       0.033       0.355\n",
       "DevType_Engineer, data                                                                          0.1850      0.048      3.822      0.000       0.090       0.280\n",
       "DevType_Marketing or sales professional                                                         0.3894      0.182      2.142      0.032       0.033       0.746\n",
       "DevType_Senior executive/VP                                                                     0.4407      0.121      3.650      0.000       0.204       0.677\n",
       "intercept                                                                                       7.4393      0.097     76.855      0.000       7.250       7.629\n",
       "==============================================================================\n",
       "Omnibus:                      354.139   Durbin-Watson:                   1.942\n",
       "Prob(Omnibus):                  0.000   Jarque-Bera (JB):             3798.274\n",
       "Skew:                          -0.233   Prob(JB):                         0.00\n",
       "Kurtosis:                       8.902   Cond. No.                         396.\n",
       "==============================================================================\n",
       "\n",
       "Notes:\n",
       "[1] Standard Errors assume that the covariance matrix of the errors is correctly specified.\n",
       "\"\"\""
      ]
     },
     "execution_count": 36,
     "metadata": {},
     "output_type": "execute_result"
    }
   ],
   "source": [
    "result = model_lm(log_y, X[valid_cols].copy())\n",
    "result.summary()"
   ]
  },
  {
   "cell_type": "markdown",
   "id": "a45be283",
   "metadata": {},
   "source": [
    "# Adding countries variables"
   ]
  },
  {
   "cell_type": "code",
   "execution_count": 37,
   "id": "8610ef77",
   "metadata": {},
   "outputs": [
    {
     "data": {
      "text/plain": [
       "Country_United States     0.427962\n",
       "Country_India             0.284196\n",
       "Country_Germany           0.256906\n",
       "Country_United Kingdom    0.246415\n",
       "Country_Canada            0.184138\n",
       "Country_France            0.181219\n",
       "Country_Brazil            0.180233\n",
       "Country_Spain             0.161317\n",
       "Country_Australia         0.154430\n",
       "Country_Netherlands       0.154430\n",
       "dtype: float64"
      ]
     },
     "execution_count": 37,
     "metadata": {},
     "output_type": "execute_result"
    }
   ],
   "source": [
    "countries_dummies = pd.get_dummies(ds_df['Country'], prefix='Country')\n",
    "top_countries_stds = countries_dummies.std().sort_values(ascending=False).head(10)\n",
    "top_countries_stds"
   ]
  },
  {
   "cell_type": "code",
   "execution_count": 38,
   "id": "6a1f702f",
   "metadata": {},
   "outputs": [],
   "source": [
    "countries_cols = top_countries_stds.index\n",
    "X_with_countries = X.join(countries_dummies[countries_cols])\n",
    "for col in countries_cols:\n",
    "    X_with_countries[col].fillna(0, inplace=True)"
   ]
  },
  {
   "cell_type": "code",
   "execution_count": 39,
   "id": "8c0a09f2",
   "metadata": {},
   "outputs": [
    {
     "data": {
      "text/html": [
       "<table class=\"simpletable\">\n",
       "<caption>OLS Regression Results</caption>\n",
       "<tr>\n",
       "  <th>Dep. Variable:</th>    <td>LogConvertedComp</td> <th>  R-squared:         </th> <td>   0.462</td> \n",
       "</tr>\n",
       "<tr>\n",
       "  <th>Model:</th>                   <td>OLS</td>       <th>  Adj. R-squared:    </th> <td>   0.454</td> \n",
       "</tr>\n",
       "<tr>\n",
       "  <th>Method:</th>             <td>Least Squares</td>  <th>  F-statistic:       </th> <td>   54.95</td> \n",
       "</tr>\n",
       "<tr>\n",
       "  <th>Date:</th>             <td>Mon, 26 Apr 2021</td> <th>  Prob (F-statistic):</th> <td>1.21e-309</td>\n",
       "</tr>\n",
       "<tr>\n",
       "  <th>Time:</th>                 <td>23:09:19</td>     <th>  Log-Likelihood:    </th> <td> -3578.5</td> \n",
       "</tr>\n",
       "<tr>\n",
       "  <th>No. Observations:</th>      <td>  2601</td>      <th>  AIC:               </th> <td>   7239.</td> \n",
       "</tr>\n",
       "<tr>\n",
       "  <th>Df Residuals:</th>          <td>  2560</td>      <th>  BIC:               </th> <td>   7479.</td> \n",
       "</tr>\n",
       "<tr>\n",
       "  <th>Df Model:</th>              <td>    40</td>      <th>                     </th>     <td> </td>    \n",
       "</tr>\n",
       "<tr>\n",
       "  <th>Covariance Type:</th>      <td>nonrobust</td>    <th>                     </th>     <td> </td>    \n",
       "</tr>\n",
       "</table>\n",
       "<table class=\"simpletable\">\n",
       "<tr>\n",
       "                                            <td></td>                                              <th>coef</th>     <th>std err</th>      <th>t</th>      <th>P>|t|</th>  <th>[0.025</th>    <th>0.975]</th>  \n",
       "</tr>\n",
       "<tr>\n",
       "  <th>WorkWeekHrs</th>                                                                          <td>    0.0044</td> <td>    0.001</td> <td>    3.645</td> <td> 0.000</td> <td>    0.002</td> <td>    0.007</td>\n",
       "</tr>\n",
       "<tr>\n",
       "  <th>YearsCodePro</th>                                                                         <td>    0.0272</td> <td>    0.003</td> <td>   10.047</td> <td> 0.000</td> <td>    0.022</td> <td>    0.032</td>\n",
       "</tr>\n",
       "<tr>\n",
       "  <th>EdLevel_Bachelor’s degree (B.A., B.S., B.Eng., etc.)</th>                                 <td>   -0.2589</td> <td>    0.045</td> <td>   -5.726</td> <td> 0.000</td> <td>   -0.348</td> <td>   -0.170</td>\n",
       "</tr>\n",
       "<tr>\n",
       "  <th>EdLevel_Other doctoral degree (Ph.D., Ed.D., etc.)</th>                                   <td>    0.1905</td> <td>    0.059</td> <td>    3.206</td> <td> 0.001</td> <td>    0.074</td> <td>    0.307</td>\n",
       "</tr>\n",
       "<tr>\n",
       "  <th>EdLevel_Some college/university study without earning a degree</th>                       <td>   -0.2285</td> <td>    0.087</td> <td>   -2.612</td> <td> 0.009</td> <td>   -0.400</td> <td>   -0.057</td>\n",
       "</tr>\n",
       "<tr>\n",
       "  <th>LanguageWorkedWith_Java</th>                                                              <td>   -0.0991</td> <td>    0.044</td> <td>   -2.227</td> <td> 0.026</td> <td>   -0.186</td> <td>   -0.012</td>\n",
       "</tr>\n",
       "<tr>\n",
       "  <th>LanguageWorkedWith_Julia</th>                                                             <td>    0.2234</td> <td>    0.097</td> <td>    2.295</td> <td> 0.022</td> <td>    0.032</td> <td>    0.414</td>\n",
       "</tr>\n",
       "<tr>\n",
       "  <th>LanguageWorkedWith_Objective-C</th>                                                       <td>    0.4169</td> <td>    0.115</td> <td>    3.617</td> <td> 0.000</td> <td>    0.191</td> <td>    0.643</td>\n",
       "</tr>\n",
       "<tr>\n",
       "  <th>LanguageWorkedWith_PHP</th>                                                               <td>   -0.1759</td> <td>    0.058</td> <td>   -3.007</td> <td> 0.003</td> <td>   -0.291</td> <td>   -0.061</td>\n",
       "</tr>\n",
       "<tr>\n",
       "  <th>LanguageWorkedWith_Scala</th>                                                             <td>    0.3247</td> <td>    0.070</td> <td>    4.645</td> <td> 0.000</td> <td>    0.188</td> <td>    0.462</td>\n",
       "</tr>\n",
       "<tr>\n",
       "  <th>PlatformWorkedWith_AWS</th>                                                               <td>    0.1249</td> <td>    0.045</td> <td>    2.787</td> <td> 0.005</td> <td>    0.037</td> <td>    0.213</td>\n",
       "</tr>\n",
       "<tr>\n",
       "  <th>PlatformWorkedWith_Arduino</th>                                                           <td>   -0.3100</td> <td>    0.071</td> <td>   -4.387</td> <td> 0.000</td> <td>   -0.449</td> <td>   -0.171</td>\n",
       "</tr>\n",
       "<tr>\n",
       "  <th>PlatformWorkedWith_Docker</th>                                                            <td>    0.1467</td> <td>    0.042</td> <td>    3.500</td> <td> 0.000</td> <td>    0.065</td> <td>    0.229</td>\n",
       "</tr>\n",
       "<tr>\n",
       "  <th>PlatformWorkedWith_Google Cloud Platform</th>                                             <td>    0.1260</td> <td>    0.048</td> <td>    2.626</td> <td> 0.009</td> <td>    0.032</td> <td>    0.220</td>\n",
       "</tr>\n",
       "<tr>\n",
       "  <th>PlatformWorkedWith_Raspberry Pi</th>                                                      <td>    0.1552</td> <td>    0.056</td> <td>    2.773</td> <td> 0.006</td> <td>    0.045</td> <td>    0.265</td>\n",
       "</tr>\n",
       "<tr>\n",
       "  <th>DatabaseWorkedWith_MySQL</th>                                                             <td>   -0.0938</td> <td>    0.043</td> <td>   -2.168</td> <td> 0.030</td> <td>   -0.179</td> <td>   -0.009</td>\n",
       "</tr>\n",
       "<tr>\n",
       "  <th>DatabaseWorkedWith_Oracle</th>                                                            <td>    0.1330</td> <td>    0.056</td> <td>    2.362</td> <td> 0.018</td> <td>    0.023</td> <td>    0.243</td>\n",
       "</tr>\n",
       "<tr>\n",
       "  <th>OrgSize_10 to 19 employees</th>                                                           <td>   -0.3100</td> <td>    0.076</td> <td>   -4.077</td> <td> 0.000</td> <td>   -0.459</td> <td>   -0.161</td>\n",
       "</tr>\n",
       "<tr>\n",
       "  <th>OrgSize_2 to 9 employees</th>                                                             <td>   -0.4088</td> <td>    0.067</td> <td>   -6.145</td> <td> 0.000</td> <td>   -0.539</td> <td>   -0.278</td>\n",
       "</tr>\n",
       "<tr>\n",
       "  <th>OrgSize_Just me - I am a freelancer, sole proprietor, etc.</th>                           <td>   -0.3359</td> <td>    0.103</td> <td>   -3.247</td> <td> 0.001</td> <td>   -0.539</td> <td>   -0.133</td>\n",
       "</tr>\n",
       "<tr>\n",
       "  <th>NEWOvertime_Occasionally: 1-2 days per quarter but less than monthly</th>                 <td>    0.1430</td> <td>    0.050</td> <td>    2.862</td> <td> 0.004</td> <td>    0.045</td> <td>    0.241</td>\n",
       "</tr>\n",
       "<tr>\n",
       "  <th>MiscTechWorkedWith_Flutter</th>                                                           <td>   -0.2825</td> <td>    0.110</td> <td>   -2.566</td> <td> 0.010</td> <td>   -0.498</td> <td>   -0.067</td>\n",
       "</tr>\n",
       "<tr>\n",
       "  <th>Employment_Employed part-time</th>                                                        <td>   -0.4845</td> <td>    0.093</td> <td>   -5.209</td> <td> 0.000</td> <td>   -0.667</td> <td>   -0.302</td>\n",
       "</tr>\n",
       "<tr>\n",
       "  <th>UndergradMajor_Information systems, information technology, or system administration</th> <td>   -0.2380</td> <td>    0.098</td> <td>   -2.427</td> <td> 0.015</td> <td>   -0.430</td> <td>   -0.046</td>\n",
       "</tr>\n",
       "<tr>\n",
       "  <th>JobSeek_I am actively looking for a job</th>                                              <td>   -0.1278</td> <td>    0.056</td> <td>   -2.283</td> <td> 0.023</td> <td>   -0.238</td> <td>   -0.018</td>\n",
       "</tr>\n",
       "<tr>\n",
       "  <th>JobSeek_I am not interested in new job opportunities</th>                                 <td>    0.2373</td> <td>    0.046</td> <td>    5.106</td> <td> 0.000</td> <td>    0.146</td> <td>    0.328</td>\n",
       "</tr>\n",
       "<tr>\n",
       "  <th>JobFactors_How widely used or impactful my work output would be</th>                      <td>    0.0837</td> <td>    0.042</td> <td>    1.982</td> <td> 0.048</td> <td>    0.001</td> <td>    0.167</td>\n",
       "</tr>\n",
       "<tr>\n",
       "  <th>JobFactors_Specific department or team I’d be working on</th>                             <td>    0.1054</td> <td>    0.053</td> <td>    1.985</td> <td> 0.047</td> <td>    0.001</td> <td>    0.209</td>\n",
       "</tr>\n",
       "<tr>\n",
       "  <th>DevType_Academic researcher</th>                                                          <td>   -0.1838</td> <td>    0.047</td> <td>   -3.952</td> <td> 0.000</td> <td>   -0.275</td> <td>   -0.093</td>\n",
       "</tr>\n",
       "<tr>\n",
       "  <th>DevType_Engineer, data</th>                                                               <td>    0.1259</td> <td>    0.043</td> <td>    2.942</td> <td> 0.003</td> <td>    0.042</td> <td>    0.210</td>\n",
       "</tr>\n",
       "<tr>\n",
       "  <th>DevType_Marketing or sales professional</th>                                              <td>    0.3243</td> <td>    0.159</td> <td>    2.034</td> <td> 0.042</td> <td>    0.012</td> <td>    0.637</td>\n",
       "</tr>\n",
       "<tr>\n",
       "  <th>DevType_Senior executive/VP</th>                                                          <td>    0.4306</td> <td>    0.106</td> <td>    4.056</td> <td> 0.000</td> <td>    0.222</td> <td>    0.639</td>\n",
       "</tr>\n",
       "<tr>\n",
       "  <th>intercept</th>                                                                            <td>    7.5939</td> <td>    0.075</td> <td>  101.539</td> <td> 0.000</td> <td>    7.447</td> <td>    7.741</td>\n",
       "</tr>\n",
       "<tr>\n",
       "  <th>Country_United States</th>                                                                <td>    1.1588</td> <td>    0.051</td> <td>   22.689</td> <td> 0.000</td> <td>    1.059</td> <td>    1.259</td>\n",
       "</tr>\n",
       "<tr>\n",
       "  <th>Country_India</th>                                                                        <td>   -0.7455</td> <td>    0.075</td> <td>   -9.997</td> <td> 0.000</td> <td>   -0.892</td> <td>   -0.599</td>\n",
       "</tr>\n",
       "<tr>\n",
       "  <th>Country_Germany</th>                                                                      <td>    0.5400</td> <td>    0.078</td> <td>    6.922</td> <td> 0.000</td> <td>    0.387</td> <td>    0.693</td>\n",
       "</tr>\n",
       "<tr>\n",
       "  <th>Country_United Kingdom</th>                                                               <td>    0.7448</td> <td>    0.082</td> <td>    9.137</td> <td> 0.000</td> <td>    0.585</td> <td>    0.905</td>\n",
       "</tr>\n",
       "<tr>\n",
       "  <th>Country_Canada</th>                                                                       <td>    0.5829</td> <td>    0.106</td> <td>    5.481</td> <td> 0.000</td> <td>    0.374</td> <td>    0.791</td>\n",
       "</tr>\n",
       "<tr>\n",
       "  <th>Country_Brazil</th>                                                                       <td>   -0.4316</td> <td>    0.109</td> <td>   -3.978</td> <td> 0.000</td> <td>   -0.644</td> <td>   -0.219</td>\n",
       "</tr>\n",
       "<tr>\n",
       "  <th>Country_Australia</th>                                                                    <td>    0.7869</td> <td>    0.126</td> <td>    6.265</td> <td> 0.000</td> <td>    0.541</td> <td>    1.033</td>\n",
       "</tr>\n",
       "<tr>\n",
       "  <th>Country_Netherlands</th>                                                                  <td>    0.3149</td> <td>    0.126</td> <td>    2.492</td> <td> 0.013</td> <td>    0.067</td> <td>    0.563</td>\n",
       "</tr>\n",
       "</table>\n",
       "<table class=\"simpletable\">\n",
       "<tr>\n",
       "  <th>Omnibus:</th>       <td>525.005</td> <th>  Durbin-Watson:     </th> <td>   2.020</td> \n",
       "</tr>\n",
       "<tr>\n",
       "  <th>Prob(Omnibus):</th> <td> 0.000</td>  <th>  Jarque-Bera (JB):  </th> <td>10104.951</td>\n",
       "</tr>\n",
       "<tr>\n",
       "  <th>Skew:</th>          <td>-0.421</td>  <th>  Prob(JB):          </th> <td>    0.00</td> \n",
       "</tr>\n",
       "<tr>\n",
       "  <th>Kurtosis:</th>      <td>12.619</td>  <th>  Cond. No.          </th> <td>    390.</td> \n",
       "</tr>\n",
       "</table><br/><br/>Notes:<br/>[1] Standard Errors assume that the covariance matrix of the errors is correctly specified."
      ],
      "text/plain": [
       "<class 'statsmodels.iolib.summary.Summary'>\n",
       "\"\"\"\n",
       "                            OLS Regression Results                            \n",
       "==============================================================================\n",
       "Dep. Variable:       LogConvertedComp   R-squared:                       0.462\n",
       "Model:                            OLS   Adj. R-squared:                  0.454\n",
       "Method:                 Least Squares   F-statistic:                     54.95\n",
       "Date:                Mon, 26 Apr 2021   Prob (F-statistic):          1.21e-309\n",
       "Time:                        23:09:19   Log-Likelihood:                -3578.5\n",
       "No. Observations:                2601   AIC:                             7239.\n",
       "Df Residuals:                    2560   BIC:                             7479.\n",
       "Df Model:                          40                                         \n",
       "Covariance Type:            nonrobust                                         \n",
       "========================================================================================================================================================\n",
       "                                                                                           coef    std err          t      P>|t|      [0.025      0.975]\n",
       "--------------------------------------------------------------------------------------------------------------------------------------------------------\n",
       "WorkWeekHrs                                                                              0.0044      0.001      3.645      0.000       0.002       0.007\n",
       "YearsCodePro                                                                             0.0272      0.003     10.047      0.000       0.022       0.032\n",
       "EdLevel_Bachelor’s degree (B.A., B.S., B.Eng., etc.)                                    -0.2589      0.045     -5.726      0.000      -0.348      -0.170\n",
       "EdLevel_Other doctoral degree (Ph.D., Ed.D., etc.)                                       0.1905      0.059      3.206      0.001       0.074       0.307\n",
       "EdLevel_Some college/university study without earning a degree                          -0.2285      0.087     -2.612      0.009      -0.400      -0.057\n",
       "LanguageWorkedWith_Java                                                                 -0.0991      0.044     -2.227      0.026      -0.186      -0.012\n",
       "LanguageWorkedWith_Julia                                                                 0.2234      0.097      2.295      0.022       0.032       0.414\n",
       "LanguageWorkedWith_Objective-C                                                           0.4169      0.115      3.617      0.000       0.191       0.643\n",
       "LanguageWorkedWith_PHP                                                                  -0.1759      0.058     -3.007      0.003      -0.291      -0.061\n",
       "LanguageWorkedWith_Scala                                                                 0.3247      0.070      4.645      0.000       0.188       0.462\n",
       "PlatformWorkedWith_AWS                                                                   0.1249      0.045      2.787      0.005       0.037       0.213\n",
       "PlatformWorkedWith_Arduino                                                              -0.3100      0.071     -4.387      0.000      -0.449      -0.171\n",
       "PlatformWorkedWith_Docker                                                                0.1467      0.042      3.500      0.000       0.065       0.229\n",
       "PlatformWorkedWith_Google Cloud Platform                                                 0.1260      0.048      2.626      0.009       0.032       0.220\n",
       "PlatformWorkedWith_Raspberry Pi                                                          0.1552      0.056      2.773      0.006       0.045       0.265\n",
       "DatabaseWorkedWith_MySQL                                                                -0.0938      0.043     -2.168      0.030      -0.179      -0.009\n",
       "DatabaseWorkedWith_Oracle                                                                0.1330      0.056      2.362      0.018       0.023       0.243\n",
       "OrgSize_10 to 19 employees                                                              -0.3100      0.076     -4.077      0.000      -0.459      -0.161\n",
       "OrgSize_2 to 9 employees                                                                -0.4088      0.067     -6.145      0.000      -0.539      -0.278\n",
       "OrgSize_Just me - I am a freelancer, sole proprietor, etc.                              -0.3359      0.103     -3.247      0.001      -0.539      -0.133\n",
       "NEWOvertime_Occasionally: 1-2 days per quarter but less than monthly                     0.1430      0.050      2.862      0.004       0.045       0.241\n",
       "MiscTechWorkedWith_Flutter                                                              -0.2825      0.110     -2.566      0.010      -0.498      -0.067\n",
       "Employment_Employed part-time                                                           -0.4845      0.093     -5.209      0.000      -0.667      -0.302\n",
       "UndergradMajor_Information systems, information technology, or system administration    -0.2380      0.098     -2.427      0.015      -0.430      -0.046\n",
       "JobSeek_I am actively looking for a job                                                 -0.1278      0.056     -2.283      0.023      -0.238      -0.018\n",
       "JobSeek_I am not interested in new job opportunities                                     0.2373      0.046      5.106      0.000       0.146       0.328\n",
       "JobFactors_How widely used or impactful my work output would be                          0.0837      0.042      1.982      0.048       0.001       0.167\n",
       "JobFactors_Specific department or team I’d be working on                                 0.1054      0.053      1.985      0.047       0.001       0.209\n",
       "DevType_Academic researcher                                                             -0.1838      0.047     -3.952      0.000      -0.275      -0.093\n",
       "DevType_Engineer, data                                                                   0.1259      0.043      2.942      0.003       0.042       0.210\n",
       "DevType_Marketing or sales professional                                                  0.3243      0.159      2.034      0.042       0.012       0.637\n",
       "DevType_Senior executive/VP                                                              0.4306      0.106      4.056      0.000       0.222       0.639\n",
       "intercept                                                                                7.5939      0.075    101.539      0.000       7.447       7.741\n",
       "Country_United States                                                                    1.1588      0.051     22.689      0.000       1.059       1.259\n",
       "Country_India                                                                           -0.7455      0.075     -9.997      0.000      -0.892      -0.599\n",
       "Country_Germany                                                                          0.5400      0.078      6.922      0.000       0.387       0.693\n",
       "Country_United Kingdom                                                                   0.7448      0.082      9.137      0.000       0.585       0.905\n",
       "Country_Canada                                                                           0.5829      0.106      5.481      0.000       0.374       0.791\n",
       "Country_Brazil                                                                          -0.4316      0.109     -3.978      0.000      -0.644      -0.219\n",
       "Country_Australia                                                                        0.7869      0.126      6.265      0.000       0.541       1.033\n",
       "Country_Netherlands                                                                      0.3149      0.126      2.492      0.013       0.067       0.563\n",
       "==============================================================================\n",
       "Omnibus:                      525.005   Durbin-Watson:                   2.020\n",
       "Prob(Omnibus):                  0.000   Jarque-Bera (JB):            10104.951\n",
       "Skew:                          -0.421   Prob(JB):                         0.00\n",
       "Kurtosis:                      12.619   Cond. No.                         390.\n",
       "==============================================================================\n",
       "\n",
       "Notes:\n",
       "[1] Standard Errors assume that the covariance matrix of the errors is correctly specified.\n",
       "\"\"\""
      ]
     },
     "execution_count": 39,
     "metadata": {},
     "output_type": "execute_result"
    }
   ],
   "source": [
    "valid_countries_cols = valid_cols.tolist() + countries_cols.tolist()\n",
    "result = model_lm(log_y, X_with_countries[valid_countries_cols].copy())\n",
    "result.summary()"
   ]
  },
  {
   "cell_type": "markdown",
   "id": "72030e38",
   "metadata": {},
   "source": [
    "# Variable descriptions"
   ]
  },
  {
   "cell_type": "code",
   "execution_count": 2,
   "id": "7e78deac",
   "metadata": {},
   "outputs": [],
   "source": [
    "schema = pd.read_csv(r'data/2020_schema.csv', index_col='Column', squeeze=True)"
   ]
  },
  {
   "cell_type": "code",
   "execution_count": 40,
   "id": "23c9ebdf",
   "metadata": {},
   "outputs": [
    {
     "ename": "NameError",
     "evalue": "name 'excluded_cols' is not defined",
     "output_type": "error",
     "traceback": [
      "\u001b[0;31m---------------------------------------------------------------------------\u001b[0m",
      "\u001b[0;31mNameError\u001b[0m                                 Traceback (most recent call last)",
      "\u001b[0;32m<ipython-input-40-ecc1e545c903>\u001b[0m in \u001b[0;36m<module>\u001b[0;34m\u001b[0m\n\u001b[1;32m      5\u001b[0m                  'NEWJobHuntResearch', 'NEWSOSites', 'NEWStuck']\n\u001b[1;32m      6\u001b[0m \u001b[0;34m\u001b[0m\u001b[0m\n\u001b[0;32m----> 7\u001b[0;31m \u001b[0;32mfor\u001b[0m \u001b[0mcol\u001b[0m \u001b[0;32min\u001b[0m \u001b[0mexcluded_cols\u001b[0m\u001b[0;34m:\u001b[0m\u001b[0;34m\u001b[0m\u001b[0;34m\u001b[0m\u001b[0m\n\u001b[0m\u001b[1;32m      8\u001b[0m     \u001b[0mprint\u001b[0m\u001b[0;34m(\u001b[0m\u001b[0;34mf'{col}: {schema[col]}\\n'\u001b[0m\u001b[0;34m)\u001b[0m\u001b[0;34m\u001b[0m\u001b[0;34m\u001b[0m\u001b[0m\n",
      "\u001b[0;31mNameError\u001b[0m: name 'excluded_cols' is not defined"
     ]
    }
   ],
   "source": [
    "selected_cols = ['CompTotal', 'CurrencyDesc', 'CurrencySymbol',\n",
    "                 'NEWOffTopic', 'NEWOnboardGood', 'NEWOtherComms',\n",
    "                 'NEWPurpleLink', 'SOAccount', 'SOComm', 'SOPartFreq',\n",
    "                 'SOVisitFreq', 'SurveyEase', 'SurveyLength', 'NEWJobHunt',\n",
    "                 'NEWJobHuntResearch', 'NEWSOSites', 'NEWStuck']\n",
    "\n",
    "for col in excluded_cols:\n",
    "    print(f'{col}: {schema[col]}\\n')"
   ]
  }
 ],
 "metadata": {
  "kernelspec": {
   "display_name": "Python 3",
   "language": "python",
   "name": "python3"
  },
  "language_info": {
   "codemirror_mode": {
    "name": "ipython",
    "version": 3
   },
   "file_extension": ".py",
   "mimetype": "text/x-python",
   "name": "python",
   "nbconvert_exporter": "python",
   "pygments_lexer": "ipython3",
   "version": "3.8.5"
  }
 },
 "nbformat": 4,
 "nbformat_minor": 5
}
